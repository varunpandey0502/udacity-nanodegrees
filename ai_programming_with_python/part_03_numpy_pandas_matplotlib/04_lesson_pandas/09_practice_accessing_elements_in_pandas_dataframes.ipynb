{
 "cells": [
  {
   "cell_type": "markdown",
   "metadata": {},
   "source": [
    "# Accessing elements in pandas dataframes"
   ]
  },
  {
   "cell_type": "code",
   "execution_count": 2,
   "metadata": {},
   "outputs": [],
   "source": [
    "import pandas as pd"
   ]
  },
  {
   "cell_type": "code",
   "execution_count": 46,
   "metadata": {},
   "outputs": [
    {
     "output_type": "execute_result",
     "data": {
      "text/plain": "         bikes  pants  watches  glasses\nstore 1     20     30       35      NaN\nstore 2      5     23       10     50.0",
      "text/html": "<div>\n<style scoped>\n    .dataframe tbody tr th:only-of-type {\n        vertical-align: middle;\n    }\n\n    .dataframe tbody tr th {\n        vertical-align: top;\n    }\n\n    .dataframe thead th {\n        text-align: right;\n    }\n</style>\n<table border=\"1\" class=\"dataframe\">\n  <thead>\n    <tr style=\"text-align: right;\">\n      <th></th>\n      <th>bikes</th>\n      <th>pants</th>\n      <th>watches</th>\n      <th>glasses</th>\n    </tr>\n  </thead>\n  <tbody>\n    <tr>\n      <th>store 1</th>\n      <td>20</td>\n      <td>30</td>\n      <td>35</td>\n      <td>NaN</td>\n    </tr>\n    <tr>\n      <th>store 2</th>\n      <td>5</td>\n      <td>23</td>\n      <td>10</td>\n      <td>50.0</td>\n    </tr>\n  </tbody>\n</table>\n</div>"
     },
     "metadata": {},
     "execution_count": 46
    }
   ],
   "source": [
    "# Creating a store items dataframe from a dictionary\n",
    "\n",
    "items = [{'bikes':20,'pants':30,'watches':35},{'watches':10,'glasses':50,'bikes':5,'pants':23}]\n",
    "\n",
    "store_items = pd.DataFrame(items, index=['store 1','store 2'])\n",
    "store_items"
   ]
  },
  {
   "cell_type": "markdown",
   "metadata": {},
   "source": [
    "We can access elements in Pandas DataFrames in many different ways. In general, we can access rows, columns, or individual elements of the DataFrame by using the row and column labels."
   ]
  },
  {
   "cell_type": "code",
   "execution_count": 8,
   "metadata": {},
   "outputs": [
    {
     "output_type": "stream",
     "name": "stdout",
     "text": "No of bikes in each store: \n store 1    20\nstore 2     5\nName: bikes, dtype: int64\n\nNo of bikes and pants in each store: \n          bikes  pants\nstore 1     20     30\nstore 2      5     23\n\nItems in store 1: \n bikes      20.0\npants      30.0\nwatches    35.0\nglasses     NaN\nName: store 1, dtype: float64\n\nNo of bikes in store 2: \n 5\n"
    }
   ],
   "source": [
    "print('No of bikes in each store: \\n', store_items['bikes'])\n",
    "print()\n",
    "print('No of bikes and pants in each store: \\n',store_items[['bikes','pants']])\n",
    "print()\n",
    "print('Items in store 1: \\n', store_items.loc['store 1'])\n",
    "print()\n",
    "print('No of bikes in store 2: \\n', store_items['bikes']['store 2'])"
   ]
  },
  {
   "cell_type": "markdown",
   "metadata": {},
   "source": [
    "We can also modify our DataFrames by adding rows or columns."
   ]
  },
  {
   "cell_type": "code",
   "execution_count": 9,
   "metadata": {},
   "outputs": [
    {
     "output_type": "execute_result",
     "data": {
      "text/plain": "         bikes  pants  watches  glasses  shirts\nstore 1     20     30       35      NaN      22\nstore 2      5     23       10     50.0      54",
      "text/html": "<div>\n<style scoped>\n    .dataframe tbody tr th:only-of-type {\n        vertical-align: middle;\n    }\n\n    .dataframe tbody tr th {\n        vertical-align: top;\n    }\n\n    .dataframe thead th {\n        text-align: right;\n    }\n</style>\n<table border=\"1\" class=\"dataframe\">\n  <thead>\n    <tr style=\"text-align: right;\">\n      <th></th>\n      <th>bikes</th>\n      <th>pants</th>\n      <th>watches</th>\n      <th>glasses</th>\n      <th>shirts</th>\n    </tr>\n  </thead>\n  <tbody>\n    <tr>\n      <th>store 1</th>\n      <td>20</td>\n      <td>30</td>\n      <td>35</td>\n      <td>NaN</td>\n      <td>22</td>\n    </tr>\n    <tr>\n      <th>store 2</th>\n      <td>5</td>\n      <td>23</td>\n      <td>10</td>\n      <td>50.0</td>\n      <td>54</td>\n    </tr>\n  </tbody>\n</table>\n</div>"
     },
     "metadata": {},
     "execution_count": 9
    }
   ],
   "source": [
    "# We add a new column named shirts to our store_items dataframe indicating the number of shirts in stock at each store\n",
    "\n",
    "store_items['shirts'] = [22,54]\n",
    "store_items"
   ]
  },
  {
   "cell_type": "markdown",
   "metadata": {},
   "source": [
    "We can also add new columns to our DataFrame by using arithmetic operations between other columns in our DataFrame"
   ]
  },
  {
   "cell_type": "code",
   "execution_count": 10,
   "metadata": {},
   "outputs": [
    {
     "output_type": "execute_result",
     "data": {
      "text/plain": "         bikes  pants  watches  glasses  shirts  suits\nstore 1     20     30       35      NaN      22     52\nstore 2      5     23       10     50.0      54     77",
      "text/html": "<div>\n<style scoped>\n    .dataframe tbody tr th:only-of-type {\n        vertical-align: middle;\n    }\n\n    .dataframe tbody tr th {\n        vertical-align: top;\n    }\n\n    .dataframe thead th {\n        text-align: right;\n    }\n</style>\n<table border=\"1\" class=\"dataframe\">\n  <thead>\n    <tr style=\"text-align: right;\">\n      <th></th>\n      <th>bikes</th>\n      <th>pants</th>\n      <th>watches</th>\n      <th>glasses</th>\n      <th>shirts</th>\n      <th>suits</th>\n    </tr>\n  </thead>\n  <tbody>\n    <tr>\n      <th>store 1</th>\n      <td>20</td>\n      <td>30</td>\n      <td>35</td>\n      <td>NaN</td>\n      <td>22</td>\n      <td>52</td>\n    </tr>\n    <tr>\n      <th>store 2</th>\n      <td>5</td>\n      <td>23</td>\n      <td>10</td>\n      <td>50.0</td>\n      <td>54</td>\n      <td>77</td>\n    </tr>\n  </tbody>\n</table>\n</div>"
     },
     "metadata": {},
     "execution_count": 10
    }
   ],
   "source": [
    "store_items['suits'] = store_items['pants'] + store_items['shirts']\n",
    "store_items"
   ]
  },
  {
   "cell_type": "markdown",
   "metadata": {},
   "source": [
    "To add rows to our DataFrame we first have to create a new Dataframe and then append it to the original DataFrame. "
   ]
  },
  {
   "cell_type": "code",
   "execution_count": 19,
   "metadata": {},
   "outputs": [
    {
     "output_type": "execute_result",
     "data": {
      "text/plain": "         bikes  pants  watches  glasses\nstore 3     50     22       58       21",
      "text/html": "<div>\n<style scoped>\n    .dataframe tbody tr th:only-of-type {\n        vertical-align: middle;\n    }\n\n    .dataframe tbody tr th {\n        vertical-align: top;\n    }\n\n    .dataframe thead th {\n        text-align: right;\n    }\n</style>\n<table border=\"1\" class=\"dataframe\">\n  <thead>\n    <tr style=\"text-align: right;\">\n      <th></th>\n      <th>bikes</th>\n      <th>pants</th>\n      <th>watches</th>\n      <th>glasses</th>\n    </tr>\n  </thead>\n  <tbody>\n    <tr>\n      <th>store 3</th>\n      <td>50</td>\n      <td>22</td>\n      <td>58</td>\n      <td>21</td>\n    </tr>\n  </tbody>\n</table>\n</div>"
     },
     "metadata": {},
     "execution_count": 19
    }
   ],
   "source": [
    "new_items = {'bikes':50,'pants':22,'watches':58,'glasses':21}\n",
    "new_store = pd.DataFrame(new_items,index=['store 3'])\n",
    "new_store"
   ]
  },
  {
   "cell_type": "code",
   "execution_count": 22,
   "metadata": {},
   "outputs": [
    {
     "output_type": "execute_result",
     "data": {
      "text/plain": "         bikes  pants  watches  glasses  shirts  suits\nstore 1     20     30       35      NaN    22.0   52.0\nstore 2      5     23       10     50.0    54.0   77.0\nstore 3     50     22       58     21.0     NaN    NaN",
      "text/html": "<div>\n<style scoped>\n    .dataframe tbody tr th:only-of-type {\n        vertical-align: middle;\n    }\n\n    .dataframe tbody tr th {\n        vertical-align: top;\n    }\n\n    .dataframe thead th {\n        text-align: right;\n    }\n</style>\n<table border=\"1\" class=\"dataframe\">\n  <thead>\n    <tr style=\"text-align: right;\">\n      <th></th>\n      <th>bikes</th>\n      <th>pants</th>\n      <th>watches</th>\n      <th>glasses</th>\n      <th>shirts</th>\n      <th>suits</th>\n    </tr>\n  </thead>\n  <tbody>\n    <tr>\n      <th>store 1</th>\n      <td>20</td>\n      <td>30</td>\n      <td>35</td>\n      <td>NaN</td>\n      <td>22.0</td>\n      <td>52.0</td>\n    </tr>\n    <tr>\n      <th>store 2</th>\n      <td>5</td>\n      <td>23</td>\n      <td>10</td>\n      <td>50.0</td>\n      <td>54.0</td>\n      <td>77.0</td>\n    </tr>\n    <tr>\n      <th>store 3</th>\n      <td>50</td>\n      <td>22</td>\n      <td>58</td>\n      <td>21.0</td>\n      <td>NaN</td>\n      <td>NaN</td>\n    </tr>\n  </tbody>\n</table>\n</div>"
     },
     "metadata": {},
     "execution_count": 22
    }
   ],
   "source": [
    "store_items = store_items.append(new_store)\n",
    "store_items"
   ]
  },
  {
   "cell_type": "markdown",
   "metadata": {},
   "source": [
    "We add a new column using data from particular rows in the watches column\n"
   ]
  },
  {
   "cell_type": "code",
   "execution_count": 24,
   "metadata": {},
   "outputs": [
    {
     "output_type": "execute_result",
     "data": {
      "text/plain": "         bikes  pants  watches  glasses  shirts  suits  new_watches\nstore 1     20     30       35      NaN    22.0   52.0          NaN\nstore 2      5     23       10     50.0    54.0   77.0         10.0\nstore 3     50     22       58     21.0     NaN    NaN         58.0",
      "text/html": "<div>\n<style scoped>\n    .dataframe tbody tr th:only-of-type {\n        vertical-align: middle;\n    }\n\n    .dataframe tbody tr th {\n        vertical-align: top;\n    }\n\n    .dataframe thead th {\n        text-align: right;\n    }\n</style>\n<table border=\"1\" class=\"dataframe\">\n  <thead>\n    <tr style=\"text-align: right;\">\n      <th></th>\n      <th>bikes</th>\n      <th>pants</th>\n      <th>watches</th>\n      <th>glasses</th>\n      <th>shirts</th>\n      <th>suits</th>\n      <th>new_watches</th>\n    </tr>\n  </thead>\n  <tbody>\n    <tr>\n      <th>store 1</th>\n      <td>20</td>\n      <td>30</td>\n      <td>35</td>\n      <td>NaN</td>\n      <td>22.0</td>\n      <td>52.0</td>\n      <td>NaN</td>\n    </tr>\n    <tr>\n      <th>store 2</th>\n      <td>5</td>\n      <td>23</td>\n      <td>10</td>\n      <td>50.0</td>\n      <td>54.0</td>\n      <td>77.0</td>\n      <td>10.0</td>\n    </tr>\n    <tr>\n      <th>store 3</th>\n      <td>50</td>\n      <td>22</td>\n      <td>58</td>\n      <td>21.0</td>\n      <td>NaN</td>\n      <td>NaN</td>\n      <td>58.0</td>\n    </tr>\n  </tbody>\n</table>\n</div>"
     },
     "metadata": {},
     "execution_count": 24
    }
   ],
   "source": [
    "store_items['new_watches'] = store_items['watches'][1:]\n",
    "store_items"
   ]
  },
  {
   "cell_type": "markdown",
   "metadata": {},
   "source": [
    "We insert a new column with label shoes right before the column with numerical index 4"
   ]
  },
  {
   "cell_type": "code",
   "execution_count": 27,
   "metadata": {},
   "outputs": [
    {
     "output_type": "execute_result",
     "data": {
      "text/plain": "         bikes  pants  watches  glasses  ties  shoes  shirts  suits  \\\nstore 1     20     30       35      NaN     8      8    22.0   52.0   \nstore 2      5     23       10     50.0     5      5    54.0   77.0   \nstore 3     50     22       58     21.0    10     10     NaN    NaN   \n\n         new_watches  \nstore 1          NaN  \nstore 2         10.0  \nstore 3         58.0  ",
      "text/html": "<div>\n<style scoped>\n    .dataframe tbody tr th:only-of-type {\n        vertical-align: middle;\n    }\n\n    .dataframe tbody tr th {\n        vertical-align: top;\n    }\n\n    .dataframe thead th {\n        text-align: right;\n    }\n</style>\n<table border=\"1\" class=\"dataframe\">\n  <thead>\n    <tr style=\"text-align: right;\">\n      <th></th>\n      <th>bikes</th>\n      <th>pants</th>\n      <th>watches</th>\n      <th>glasses</th>\n      <th>ties</th>\n      <th>shoes</th>\n      <th>shirts</th>\n      <th>suits</th>\n      <th>new_watches</th>\n    </tr>\n  </thead>\n  <tbody>\n    <tr>\n      <th>store 1</th>\n      <td>20</td>\n      <td>30</td>\n      <td>35</td>\n      <td>NaN</td>\n      <td>8</td>\n      <td>8</td>\n      <td>22.0</td>\n      <td>52.0</td>\n      <td>NaN</td>\n    </tr>\n    <tr>\n      <th>store 2</th>\n      <td>5</td>\n      <td>23</td>\n      <td>10</td>\n      <td>50.0</td>\n      <td>5</td>\n      <td>5</td>\n      <td>54.0</td>\n      <td>77.0</td>\n      <td>10.0</td>\n    </tr>\n    <tr>\n      <th>store 3</th>\n      <td>50</td>\n      <td>22</td>\n      <td>58</td>\n      <td>21.0</td>\n      <td>10</td>\n      <td>10</td>\n      <td>NaN</td>\n      <td>NaN</td>\n      <td>58.0</td>\n    </tr>\n  </tbody>\n</table>\n</div>"
     },
     "metadata": {},
     "execution_count": 27
    }
   ],
   "source": [
    "store_items.insert(4,'ties',[8,5,10])\n",
    "store_items"
   ]
  },
  {
   "cell_type": "code",
   "execution_count": 29,
   "metadata": {},
   "outputs": [
    {
     "output_type": "execute_result",
     "data": {
      "text/plain": "         bikes  pants  watches  glasses  ties  shoes  shirts  suits\nstore 1     20     30       35      NaN     8      8    22.0   52.0\nstore 2      5     23       10     50.0     5      5    54.0   77.0\nstore 3     50     22       58     21.0    10     10     NaN    NaN",
      "text/html": "<div>\n<style scoped>\n    .dataframe tbody tr th:only-of-type {\n        vertical-align: middle;\n    }\n\n    .dataframe tbody tr th {\n        vertical-align: top;\n    }\n\n    .dataframe thead th {\n        text-align: right;\n    }\n</style>\n<table border=\"1\" class=\"dataframe\">\n  <thead>\n    <tr style=\"text-align: right;\">\n      <th></th>\n      <th>bikes</th>\n      <th>pants</th>\n      <th>watches</th>\n      <th>glasses</th>\n      <th>ties</th>\n      <th>shoes</th>\n      <th>shirts</th>\n      <th>suits</th>\n    </tr>\n  </thead>\n  <tbody>\n    <tr>\n      <th>store 1</th>\n      <td>20</td>\n      <td>30</td>\n      <td>35</td>\n      <td>NaN</td>\n      <td>8</td>\n      <td>8</td>\n      <td>22.0</td>\n      <td>52.0</td>\n    </tr>\n    <tr>\n      <th>store 2</th>\n      <td>5</td>\n      <td>23</td>\n      <td>10</td>\n      <td>50.0</td>\n      <td>5</td>\n      <td>5</td>\n      <td>54.0</td>\n      <td>77.0</td>\n    </tr>\n    <tr>\n      <th>store 3</th>\n      <td>50</td>\n      <td>22</td>\n      <td>58</td>\n      <td>21.0</td>\n      <td>10</td>\n      <td>10</td>\n      <td>NaN</td>\n      <td>NaN</td>\n    </tr>\n  </tbody>\n</table>\n</div>"
     },
     "metadata": {},
     "execution_count": 29
    }
   ],
   "source": [
    "# Remove a column\n",
    "store_items.pop('new_watches')\n",
    "store_items"
   ]
  },
  {
   "cell_type": "code",
   "execution_count": 36,
   "metadata": {},
   "outputs": [
    {
     "output_type": "execute_result",
     "data": {
      "text/plain": "         bikes  pants  watches  glasses  shoes  shirts\nstore 1     20     30       35      NaN      8    22.0\nstore 2      5     23       10     50.0      5    54.0\nstore 3     50     22       58     21.0     10     NaN",
      "text/html": "<div>\n<style scoped>\n    .dataframe tbody tr th:only-of-type {\n        vertical-align: middle;\n    }\n\n    .dataframe tbody tr th {\n        vertical-align: top;\n    }\n\n    .dataframe thead th {\n        text-align: right;\n    }\n</style>\n<table border=\"1\" class=\"dataframe\">\n  <thead>\n    <tr style=\"text-align: right;\">\n      <th></th>\n      <th>bikes</th>\n      <th>pants</th>\n      <th>watches</th>\n      <th>glasses</th>\n      <th>shoes</th>\n      <th>shirts</th>\n    </tr>\n  </thead>\n  <tbody>\n    <tr>\n      <th>store 1</th>\n      <td>20</td>\n      <td>30</td>\n      <td>35</td>\n      <td>NaN</td>\n      <td>8</td>\n      <td>22.0</td>\n    </tr>\n    <tr>\n      <th>store 2</th>\n      <td>5</td>\n      <td>23</td>\n      <td>10</td>\n      <td>50.0</td>\n      <td>5</td>\n      <td>54.0</td>\n    </tr>\n    <tr>\n      <th>store 3</th>\n      <td>50</td>\n      <td>22</td>\n      <td>58</td>\n      <td>21.0</td>\n      <td>10</td>\n      <td>NaN</td>\n    </tr>\n  </tbody>\n</table>\n</div>"
     },
     "metadata": {},
     "execution_count": 36
    }
   ],
   "source": [
    "# Remove mulltiple columns\n",
    "store_items = store_items.drop(['suits','ties'],axis=1)\n",
    "store_items"
   ]
  },
  {
   "cell_type": "code",
   "execution_count": 37,
   "metadata": {},
   "outputs": [
    {
     "output_type": "execute_result",
     "data": {
      "text/plain": "         bikes  pants  watches  glasses  shoes  shirts\nstore 3     50     22       58     21.0     10     NaN",
      "text/html": "<div>\n<style scoped>\n    .dataframe tbody tr th:only-of-type {\n        vertical-align: middle;\n    }\n\n    .dataframe tbody tr th {\n        vertical-align: top;\n    }\n\n    .dataframe thead th {\n        text-align: right;\n    }\n</style>\n<table border=\"1\" class=\"dataframe\">\n  <thead>\n    <tr style=\"text-align: right;\">\n      <th></th>\n      <th>bikes</th>\n      <th>pants</th>\n      <th>watches</th>\n      <th>glasses</th>\n      <th>shoes</th>\n      <th>shirts</th>\n    </tr>\n  </thead>\n  <tbody>\n    <tr>\n      <th>store 3</th>\n      <td>50</td>\n      <td>22</td>\n      <td>58</td>\n      <td>21.0</td>\n      <td>10</td>\n      <td>NaN</td>\n    </tr>\n  </tbody>\n</table>\n</div>"
     },
     "metadata": {},
     "execution_count": 37
    }
   ],
   "source": [
    "# Remove store 1 and store 2 rows\n",
    "store_items = store_items.drop(['store 1','store 2'],axis=0)\n",
    "store_items"
   ]
  },
  {
   "cell_type": "code",
   "execution_count": 40,
   "metadata": {},
   "outputs": [
    {
     "output_type": "execute_result",
     "data": {
      "text/plain": "         hats  pants  watches  belts  shoes  shirts\nstore 3    50     22       58   21.0     10     NaN",
      "text/html": "<div>\n<style scoped>\n    .dataframe tbody tr th:only-of-type {\n        vertical-align: middle;\n    }\n\n    .dataframe tbody tr th {\n        vertical-align: top;\n    }\n\n    .dataframe thead th {\n        text-align: right;\n    }\n</style>\n<table border=\"1\" class=\"dataframe\">\n  <thead>\n    <tr style=\"text-align: right;\">\n      <th></th>\n      <th>hats</th>\n      <th>pants</th>\n      <th>watches</th>\n      <th>belts</th>\n      <th>shoes</th>\n      <th>shirts</th>\n    </tr>\n  </thead>\n  <tbody>\n    <tr>\n      <th>store 3</th>\n      <td>50</td>\n      <td>22</td>\n      <td>58</td>\n      <td>21.0</td>\n      <td>10</td>\n      <td>NaN</td>\n    </tr>\n  </tbody>\n</table>\n</div>"
     },
     "metadata": {},
     "execution_count": 40
    }
   ],
   "source": [
    "# Rename column label from bikes to hats\n",
    "store_items = store_items.rename(columns={'bikes':'hats', 'glasses':'belts'})\n",
    "store_items"
   ]
  },
  {
   "cell_type": "code",
   "execution_count": 42,
   "metadata": {},
   "outputs": [
    {
     "output_type": "execute_result",
     "data": {
      "text/plain": "        hats  pants  watches  belts  shoes  shirts\njellys    50     22       58   21.0     10     NaN",
      "text/html": "<div>\n<style scoped>\n    .dataframe tbody tr th:only-of-type {\n        vertical-align: middle;\n    }\n\n    .dataframe tbody tr th {\n        vertical-align: top;\n    }\n\n    .dataframe thead th {\n        text-align: right;\n    }\n</style>\n<table border=\"1\" class=\"dataframe\">\n  <thead>\n    <tr style=\"text-align: right;\">\n      <th></th>\n      <th>hats</th>\n      <th>pants</th>\n      <th>watches</th>\n      <th>belts</th>\n      <th>shoes</th>\n      <th>shirts</th>\n    </tr>\n  </thead>\n  <tbody>\n    <tr>\n      <th>jellys</th>\n      <td>50</td>\n      <td>22</td>\n      <td>58</td>\n      <td>21.0</td>\n      <td>10</td>\n      <td>NaN</td>\n    </tr>\n  </tbody>\n</table>\n</div>"
     },
     "metadata": {},
     "execution_count": 42
    }
   ],
   "source": [
    "# Rename a row label\n",
    "store_items = store_items.rename(index={'store 3':'jellys'})\n",
    "store_items"
   ]
  },
  {
   "cell_type": "code",
   "execution_count": 47,
   "metadata": {},
   "outputs": [
    {
     "output_type": "execute_result",
     "data": {
      "text/plain": "       bikes  watches  glasses\npants                         \n30        20       35      NaN\n23         5       10     50.0",
      "text/html": "<div>\n<style scoped>\n    .dataframe tbody tr th:only-of-type {\n        vertical-align: middle;\n    }\n\n    .dataframe tbody tr th {\n        vertical-align: top;\n    }\n\n    .dataframe thead th {\n        text-align: right;\n    }\n</style>\n<table border=\"1\" class=\"dataframe\">\n  <thead>\n    <tr style=\"text-align: right;\">\n      <th></th>\n      <th>bikes</th>\n      <th>watches</th>\n      <th>glasses</th>\n    </tr>\n    <tr>\n      <th>pants</th>\n      <th></th>\n      <th></th>\n      <th></th>\n    </tr>\n  </thead>\n  <tbody>\n    <tr>\n      <th>30</th>\n      <td>20</td>\n      <td>35</td>\n      <td>NaN</td>\n    </tr>\n    <tr>\n      <th>23</th>\n      <td>5</td>\n      <td>10</td>\n      <td>50.0</td>\n    </tr>\n  </tbody>\n</table>\n</div>"
     },
     "metadata": {},
     "execution_count": 47
    }
   ],
   "source": [
    "# We change the row index to be the data in the shoes column\n",
    "# store_items = store_items.set_index('shoes')\n",
    "# store_items\n",
    "\n",
    "store_items = store_items.set_index('pants')\n",
    "store_items"
   ]
  }
 ],
 "metadata": {
  "language_info": {
   "codemirror_mode": {
    "name": "ipython",
    "version": 3
   },
   "file_extension": ".py",
   "mimetype": "text/x-python",
   "name": "python",
   "nbconvert_exporter": "python",
   "pygments_lexer": "ipython3",
   "version": "3.8.2-final"
  },
  "orig_nbformat": 2,
  "kernelspec": {
   "name": "python38264bitaipndconda836c0cab5c1f428bbaffa43d6e24b27b",
   "display_name": "Python 3.8.2 64-bit ('aipnd': conda)"
  }
 },
 "nbformat": 4,
 "nbformat_minor": 2
}