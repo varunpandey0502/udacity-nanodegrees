{
 "cells": [
  {
   "cell_type": "markdown",
   "metadata": {},
   "source": [
    "# Arithmetic Operations on Pandas Series"
   ]
  },
  {
   "cell_type": "code",
   "execution_count": 1,
   "metadata": {},
   "outputs": [],
   "source": [
    "import pandas as pd"
   ]
  },
  {
   "cell_type": "code",
   "execution_count": 17,
   "metadata": {},
   "outputs": [
    {
     "output_type": "execute_result",
     "data": {
      "text/plain": "apples     3\nbananas    5\noranges    4\ngrapes     6\ndtype: int64"
     },
     "metadata": {},
     "execution_count": 17
    }
   ],
   "source": [
    "# Create a pandas series that stores a grocery list of fruits\n",
    "\n",
    "fruits = pd.Series(data=[3,5,4,6],index=['apples','bananas','oranges','grapes'])\n",
    "fruits"
   ]
  },
  {
   "cell_type": "code",
   "execution_count": 10,
   "metadata": {},
   "outputs": [
    {
     "output_type": "stream",
     "name": "stdout",
     "text": "Original grocery list of fruits:\n  apples     3\nbanana     5\noranges    4\ngrapes     6\ndtype: int64\n\nfruits + 2\n apples     5\nbanana     7\noranges    6\ngrapes     8\ndtype: int64\n\nfruits - 2\n apples     1\nbanana     3\noranges    2\ngrapes     4\ndtype: int64\n\nfruits / 2\n apples     1.5\nbanana     2.5\noranges    2.0\ngrapes     3.0\ndtype: float64\n\nfruits * 2\n apples      6\nbanana     10\noranges     8\ngrapes     12\ndtype: int64\n"
    }
   ],
   "source": [
    "print('Original grocery list of fruits:\\n ', fruits)\n",
    "\n",
    "# Perform basic arithmetic operations on pandas series\n",
    "print()\n",
    "print('fruits + 2\\n',fruits+2)\n",
    "print()\n",
    "print('fruits - 2\\n',fruits-2)\n",
    "print()\n",
    "print('fruits / 2\\n',fruits/2)\n",
    "print()\n",
    "print('fruits * 2\\n',fruits*2)"
   ]
  },
  {
   "cell_type": "code",
   "execution_count": 15,
   "metadata": {},
   "outputs": [
    {
     "output_type": "stream",
     "name": "stdout",
     "text": "Original list of groceries\n apples     3\nbanana     5\noranges    4\ngrapes     6\ndtype: int64\n\nEXP(X) \n apples      20.085537\nbanana     148.413159\noranges     54.598150\ngrapes     403.428793\ndtype: float64\n\nSQRT(X) \n apples     1.732051\nbanana     2.236068\noranges    2.000000\ngrapes     2.449490\ndtype: float64\n\nPOW(X,2) \n apples      9\nbanana     25\noranges    16\ngrapes     36\ndtype: int64\n"
    }
   ],
   "source": [
    "import numpy as np\n",
    "print('Original list of groceries\\n',fruits)\n",
    "\n",
    "# Apply mathematical functions using numpy\n",
    "print()\n",
    "print('EXP(X) \\n',np.exp(fruits))\n",
    "print()\n",
    "print('SQRT(X) \\n',np.sqrt(fruits))\n",
    "print()\n",
    "print('POW(X,2) \\n',np.power(fruits,2))"
   ]
  },
  {
   "cell_type": "markdown",
   "metadata": {},
   "source": [
    "## Mathematical operations on selected items in fruits list"
   ]
  },
  {
   "cell_type": "code",
   "execution_count": 21,
   "metadata": {},
   "outputs": [
    {
     "output_type": "stream",
     "name": "stdout",
     "text": "Original list of groceries\n apples     3\nbananas    5\noranges    4\ngrapes     6\ndtype: int64\nAmount of apples -2 \n 1\nDouble apples and oranges \n apples     6\noranges    8\ndtype: int64\n"
    }
   ],
   "source": [
    "print('Original list of groceries\\n',fruits)\n",
    "\n",
    "# Adding only 2 to apples\n",
    "print('Amount of apples -2 \\n',fruits['apples']-2)\n",
    "\n",
    "# Double apples and oranges\n",
    "print('Double apples and oranges \\n',fruits[['apples','oranges']]*2)"
   ]
  },
  {
   "cell_type": "code",
   "execution_count": null,
   "metadata": {},
   "outputs": [],
   "source": []
  }
 ],
 "metadata": {
  "language_info": {
   "codemirror_mode": {
    "name": "ipython",
    "version": 3
   },
   "file_extension": ".py",
   "mimetype": "text/x-python",
   "name": "python",
   "nbconvert_exporter": "python",
   "pygments_lexer": "ipython3",
   "version": "3.8.2-final"
  },
  "orig_nbformat": 2,
  "kernelspec": {
   "name": "python38264bitaipndconda836c0cab5c1f428bbaffa43d6e24b27b",
   "display_name": "Python 3.8.2 64-bit ('aipnd': conda)"
  }
 },
 "nbformat": 4,
 "nbformat_minor": 2
}