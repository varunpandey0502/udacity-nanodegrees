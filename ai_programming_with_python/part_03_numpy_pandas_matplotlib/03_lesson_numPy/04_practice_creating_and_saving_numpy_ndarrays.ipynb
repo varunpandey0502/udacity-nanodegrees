{
 "cells": [
  {
   "cell_type": "code",
   "execution_count": null,
   "metadata": {},
   "outputs": [],
   "source": [
    "import numpy as np"
   ]
  },
  {
   "cell_type": "code",
   "execution_count": null,
   "metadata": {},
   "outputs": [],
   "source": [
    "# Creating numpy arrays using a python list\n",
    "x = np.array([1,2,3,4,5])\n",
    "print('x =',x)"
   ]
  },
  {
   "cell_type": "code",
   "execution_count": null,
   "metadata": {},
   "outputs": [],
   "source": [
    "# Print information about x\n",
    "print('x has dimensions', x.shape)\n",
    "print('x is of type', type(x))\n",
    "print('The elemnents of x are of type', x.dtype)"
   ]
  },
  {
   "cell_type": "code",
   "execution_count": null,
   "metadata": {},
   "outputs": [],
   "source": [
    "# Creating a numpy array containing strings\n",
    "x = np.array(['Hello','World','From', 'NumPy'])\n",
    "\n",
    "# Printing information about the numpy array\n",
    "print('x has dimensions', x.shape)\n",
    "print('x is of type', type(x))\n",
    "print('The elemnents of x are of type', x.dtype)"
   ]
  },
  {
   "cell_type": "code",
   "execution_count": null,
   "metadata": {},
   "outputs": [],
   "source": [
    "# Creating a numpy array with mixed datatypes\n",
    "x = np.array(['Hello', 1,2])\n",
    "\n",
    "# Printing information about the numpy array\n",
    "print('x has dimensions', x.shape)\n",
    "print('x is of type', type(x))\n",
    "print('The elemnents of x are of type', x.dtype)"
   ]
  },
  {
   "cell_type": "code",
   "execution_count": null,
   "metadata": {},
   "outputs": [],
   "source": [
    "# Creating a multidimensional np array\n",
    "Y = np.array([[1,2,3,4],[4,5,6,5],[7,8,9,6]],dtype=np.int64)\n",
    "print(Y)\n",
    "\n",
    "print('Y has dimensions', Y.shape)\n",
    "print('Y is of type', type(Y))\n",
    "print('The elements of Y are of type', Y.dtype)\n",
    "print('Total elements in Y', Y.size)"
   ]
  },
  {
   "cell_type": "code",
   "execution_count": null,
   "metadata": {},
   "outputs": [],
   "source": [
    "# Creating an np array with a specified data type\n",
    "x = np.array([1,2.5,6.5,22],dtype=np.int64)\n",
    "print(x)"
   ]
  },
  {
   "cell_type": "code",
   "execution_count": null,
   "metadata": {},
   "outputs": [],
   "source": [
    "# Save an np array into a file\n",
    "x = np.array([2,5,6,6,6])\n",
    "# Save array in local directory\n",
    "np.save('my_array',x)\n",
    "# Load np array from saved file\n",
    "x = np.load('my_array.npy')\n",
    "print(x)\n"
   ]
  },
  {
   "cell_type": "code",
   "execution_count": null,
   "metadata": {},
   "outputs": [],
   "source": []
  }
 ],
 "metadata": {
  "language_info": {
   "codemirror_mode": {
    "name": "ipython",
    "version": 3
   },
   "file_extension": ".py",
   "mimetype": "text/x-python",
   "name": "python",
   "nbconvert_exporter": "python",
   "pygments_lexer": "ipython3",
   "version": "3.8.2-final"
  },
  "orig_nbformat": 2,
  "kernelspec": {
   "name": "python3",
   "display_name": "Python 3"
  }
 },
 "nbformat": 4,
 "nbformat_minor": 2
}