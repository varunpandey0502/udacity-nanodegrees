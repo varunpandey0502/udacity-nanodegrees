{
 "cells": [
  {
   "cell_type": "markdown",
   "metadata": {},
   "source": [
    "# Arithmetic Operations and Broadcasting\n",
    "\n",
    "Let's start by doing element-wise addition, subtraction, multiplication, and division, between ndarrays. To do this, NumPy provides a functional approach, where we use functions such as np.add(), or by using arithmetic symbols, such as +, that resembles more how we write mathematical equations. Both forms will do the same operation, the only difference is that if you use the function approach, the functions usually have options that you can tweak using keywords. It is important to note that when performing element-wise operations, the shapes of the ndarrays being operated on, must have the same shape or be broadcastable. "
   ]
  },
  {
   "cell_type": "code",
   "execution_count": 2,
   "metadata": {},
   "outputs": [],
   "source": [
    "import numpy as np"
   ]
  },
  {
   "cell_type": "markdown",
   "metadata": {},
   "source": [
    "## Arithmetic operations on rank 1 ndarrays\n"
   ]
  },
  {
   "cell_type": "code",
   "execution_count": 3,
   "metadata": {},
   "outputs": [
    {
     "output_type": "stream",
     "name": "stdout",
     "text": "\nx =  [1 2 3 4]\n\ny =  [5.5 6.5 7.5 8.5]\n\nx + y =  [ 6.5  8.5 10.5 12.5]\nadd(x,y) =  [ 6.5  8.5 10.5 12.5]\n\nx - y =  [-4.5 -4.5 -4.5 -4.5]\nsubtract(x,y) =  [-4.5 -4.5 -4.5 -4.5]\n\nx * y =  [ 5.5 13.  22.5 34. ]\nmultiply(x,y) =  [ 5.5 13.  22.5 34. ]\n\nx / y =  [0.18181818 0.30769231 0.4        0.47058824]\ndivide(x,y) =  [0.18181818 0.30769231 0.4        0.47058824]\n"
    }
   ],
   "source": [
    "# We create two rank 1 ndarrays\n",
    "x = np.array([1,2,3,4])\n",
    "y = np.array([5.5,6.5,7.5,8.5])\n",
    "\n",
    "# We print x\n",
    "print()\n",
    "print('x = ', x)\n",
    "\n",
    "# We print y\n",
    "print()\n",
    "print('y = ', y)\n",
    "print()\n",
    "\n",
    "# We perfrom basic element-wise operations using arithmetic symbols and functions\n",
    "print('x + y = ', x + y)\n",
    "print('add(x,y) = ', np.add(x,y))\n",
    "print()\n",
    "print('x - y = ', x - y)\n",
    "print('subtract(x,y) = ', np.subtract(x,y))\n",
    "print()\n",
    "print('x * y = ', x * y)\n",
    "print('multiply(x,y) = ', np.multiply(x,y))\n",
    "print()\n",
    "print('x / y = ', x / y)\n",
    "print('divide(x,y) = ', np.divide(x,y))"
   ]
  },
  {
   "cell_type": "markdown",
   "metadata": {},
   "source": [
    "## Arithmetic operations on rank 1 ndarrays"
   ]
  },
  {
   "cell_type": "code",
   "execution_count": 4,
   "metadata": {},
   "outputs": [
    {
     "output_type": "stream",
     "name": "stdout",
     "text": "\nX = \n [[1 2]\n [3 4]]\n\nY = \n [[5.5 6.5]\n [7.5 8.5]]\n\nX + Y = \n [[ 6.5  8.5]\n [10.5 12.5]]\n\nadd(X,Y) = \n [[ 6.5  8.5]\n [10.5 12.5]]\n\nX - Y = \n [[-4.5 -4.5]\n [-4.5 -4.5]]\n\nsubtract(X,Y) = \n [[-4.5 -4.5]\n [-4.5 -4.5]]\n\nX * Y = \n [[ 5.5 13. ]\n [22.5 34. ]]\n\nmultiply(X,Y) = \n [[ 5.5 13. ]\n [22.5 34. ]]\n\nX / Y = \n [[0.18181818 0.30769231]\n [0.4        0.47058824]]\n\ndivide(X,Y) = \n [[0.18181818 0.30769231]\n [0.4        0.47058824]]\n"
    }
   ],
   "source": [
    "# We create two rank 2 ndarrays\n",
    "X = np.array([1,2,3,4]).reshape(2,2)\n",
    "Y = np.array([5.5,6.5,7.5,8.5]).reshape(2,2)\n",
    "\n",
    "# We print X\n",
    "print()\n",
    "print('X = \\n', X)\n",
    "\n",
    "# We print Y\n",
    "print()\n",
    "print('Y = \\n', Y)\n",
    "print()\n",
    "\n",
    "# We perform basic element-wise operations using arithmetic symbols and functions\n",
    "print('X + Y = \\n', X + Y)\n",
    "print()\n",
    "print('add(X,Y) = \\n', np.add(X,Y))\n",
    "print()\n",
    "print('X - Y = \\n', X - Y)\n",
    "print()\n",
    "print('subtract(X,Y) = \\n', np.subtract(X,Y))\n",
    "print()\n",
    "print('X * Y = \\n', X * Y)\n",
    "print()\n",
    "print('multiply(X,Y) = \\n', np.multiply(X,Y))\n",
    "print()\n",
    "print('X / Y = \\n', X / Y)\n",
    "print()\n",
    "print('divide(X,Y) = \\n', np.divide(X,Y))"
   ]
  },
  {
   "cell_type": "markdown",
   "metadata": {},
   "source": [
    "## Applying mathematical functions to ndarrays"
   ]
  },
  {
   "cell_type": "code",
   "execution_count": 10,
   "metadata": {},
   "outputs": [
    {
     "output_type": "stream",
     "name": "stdout",
     "text": "\nx =  [1 2 3 4]\n\nEXP of x:\n [ 2.71828183  7.3890561  20.08553692 54.59815003]\n\nSQRT of x:\n [1.         1.41421356 1.73205081 2.        ]\n\nPOWER of x:\n [ 1  4  9 16]\n"
    }
   ],
   "source": [
    "# We create a rank 1 ndarray\n",
    "x = np.array([1,2,3,4])\n",
    "\n",
    "# We print x\n",
    "print()\n",
    "print('x = ', x)\n",
    "\n",
    "# We apply different mathematical functions to all elements of x\n",
    "print()\n",
    "print('EXP of x:\\n',np.exp(x))\n",
    "print()\n",
    "print('SQRT of x:\\n',np.sqrt(x))\n",
    "print()\n",
    "print('POWER of x:\\n',np.power(x,2))"
   ]
  },
  {
   "cell_type": "markdown",
   "metadata": {},
   "source": [
    "## Statistical functions in numPy"
   ]
  },
  {
   "cell_type": "code",
   "execution_count": 19,
   "metadata": {},
   "outputs": [
    {
     "output_type": "stream",
     "name": "stdout",
     "text": "\nX = \n [[1 2]\n [3 4]]\n\nAverage of all elements in X: 2.5\nAverage of all elements in the columns of X: [2. 3.]\nAverage of all elements in the rows of X: [1.5 3.5]\n\nSum of all elements in X: 10\nSum of all elements in the columns of X: [4 6]\nSum of all elements in the rows of X: [3 7]\n\nStandard Deviation of all elements in X: 1.118033988749895\nStandard Deviation of all elements in the columns of X: [1. 1.]\nStandard Deviation of all elements in the rows of X: [0.5 0.5]\n\nMedian of all elements in X: 2.5\nMedian of all elements in the columns of X: [2. 3.]\nMedian of all elements in the rows of X: [1.5 3.5]\n\nMaximum value of all elements in X: 4\nMaximum value of all elements in the columns of X: [3 4]\nMaximum value of all elements in the rows of X: [2 4]\n\nMinimum value of all elements in X: 1\nMinimum value of all elements in the columns of X: [1 2]\nMinimum value of all elements in the rows of X: [1 3]\n"
    }
   ],
   "source": [
    "# We create a 2 x 2 ndarray\n",
    "X = np.array([[1,2], [3,4]])\n",
    "\n",
    "# We print x\n",
    "print()\n",
    "print('X = \\n', X)\n",
    "print()\n",
    "\n",
    "print('Average of all elements in X:', X.mean())\n",
    "print('Average of all elements in the columns of X:', X.mean(axis=0))\n",
    "print('Average of all elements in the rows of X:', X.mean(axis=1))\n",
    "print()\n",
    "print('Sum of all elements in X:', X.sum())\n",
    "print('Sum of all elements in the columns of X:', X.sum(axis=0))\n",
    "print('Sum of all elements in the rows of X:', X.sum(axis=1))\n",
    "print()\n",
    "print('Standard Deviation of all elements in X:', X.std())\n",
    "print('Standard Deviation of all elements in the columns of X:', X.std(axis=0))\n",
    "print('Standard Deviation of all elements in the rows of X:', X.std(axis=1))\n",
    "print()\n",
    "print('Median of all elements in X:', np.median(X))\n",
    "print('Median of all elements in the columns of X:', np.median(X,axis=0))\n",
    "print('Median of all elements in the rows of X:', np.median(X,axis=1))\n",
    "print()\n",
    "print('Maximum value of all elements in X:', X.max())\n",
    "print('Maximum value of all elements in the columns of X:', X.max(axis=0))\n",
    "print('Maximum value of all elements in the rows of X:', X.max(axis=1))\n",
    "print()\n",
    "print('Minimum value of all elements in X:', X.min())\n",
    "print('Minimum value of all elements in the columns of X:', X.min(axis=0))\n",
    "print('Minimum value of all elements in the rows of X:', X.min(axis=1))"
   ]
  },
  {
   "cell_type": "markdown",
   "metadata": {},
   "source": [
    "## Adding single numbers to ndarrays"
   ]
  },
  {
   "cell_type": "code",
   "execution_count": 29,
   "metadata": {},
   "outputs": [
    {
     "output_type": "stream",
     "name": "stdout",
     "text": "X:\n [[1 2]\n [3 4]]\n\n X + 2 \n [[3 4]\n [5 6]]\n\n X * 3 \n [[ 3  6]\n [ 9 12]]\n\n X / 3 \n [[0.33333333 0.66666667]\n [1.         1.33333333]]\n\n X - 3 \n [[-2 -1]\n [ 0  1]]\n"
    }
   ],
   "source": [
    "# Create a 2*2 ndarray\n",
    "X = np.array([[1,2],[3,4]])\n",
    "print('X:\\n',X)\n",
    "\n",
    "print('\\n X + 2 \\n',X+2)\n",
    "print('\\n X * 3 \\n',X*3)\n",
    "print('\\n X / 3 \\n',X/3)\n",
    "print('\\n X - 3 \\n',X-3)\n"
   ]
  },
  {
   "cell_type": "markdown",
   "metadata": {},
   "source": [
    "In the examples above, NumPy is working behind the scenes to broadcast 3 along the ndarray so that they have the same shape. This allows us to add 3 to each element of X with just one line of code.\n",
    "\n",
    "Subject to certain constraints, Numpy can do the same for two ndarrays of different shapes, as we can see below."
   ]
  },
  {
   "cell_type": "code",
   "execution_count": 35,
   "metadata": {},
   "outputs": [
    {
     "output_type": "stream",
     "name": "stdout",
     "text": "x\n [1 2 3]\n\nY\n [[1 2 3]\n [4 5 6]\n [7 8 9]]\n\nZ\n [[1]\n [2]\n [3]]\n\nX + Y\n [[ 2  4  6]\n [ 5  7  9]\n [ 8 10 12]]\n\nZ + Y\n [[ 2  3  4]\n [ 6  7  8]\n [10 11 12]]\n"
    }
   ],
   "source": [
    "# Create a rank 1 ndarray\n",
    "x = np.array([1,2,3])\n",
    "print('x\\n',x)\n",
    "\n",
    "# Create a 3*3 ndarray\n",
    "Y = np.arange(1,10).reshape((3,3))\n",
    "print('\\nY\\n',Y)\n",
    "\n",
    "# Create a 3*1 ndarray\n",
    "Z = np.array([1,2,3]).reshape((3,1))\n",
    "print('\\nZ\\n',Z)\n",
    "\n",
    "print('\\nX + Y\\n', x+Y)\n",
    "print('\\nZ + Y\\n', Z+Y)\n"
   ]
  }
 ],
 "metadata": {
  "language_info": {
   "codemirror_mode": {
    "name": "ipython",
    "version": 3
   },
   "file_extension": ".py",
   "mimetype": "text/x-python",
   "name": "python",
   "nbconvert_exporter": "python",
   "pygments_lexer": "ipython3",
   "version": "3.8.2-final"
  },
  "orig_nbformat": 2,
  "kernelspec": {
   "name": "python38264bitaipythonconda419b377572bb4455b46b2696d8e68b23",
   "display_name": "Python 3.8.2 64-bit ('ai-python': conda)"
  }
 },
 "nbformat": 4,
 "nbformat_minor": 2
}