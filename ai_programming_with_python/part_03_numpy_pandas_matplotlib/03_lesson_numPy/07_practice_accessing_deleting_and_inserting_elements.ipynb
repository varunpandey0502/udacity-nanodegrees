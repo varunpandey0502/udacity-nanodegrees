{
 "cells": [
  {
   "cell_type": "code",
   "execution_count": 2,
   "metadata": {},
   "outputs": [],
   "source": [
    "import numpy as np"
   ]
  },
  {
   "cell_type": "code",
   "execution_count": null,
   "metadata": {},
   "outputs": [],
   "source": [
    "# Access elements using indexing\n",
    "x = np.array([1,3,3,5,6,5])\n",
    "\n",
    "print('x =',x,'\\n')\n",
    "\n",
    "# Accessing elements using positve indices\n",
    "print('The first element in x is', x[0])\n",
    "print('The second element in x is',x[1])\n",
    "\n",
    "# Accessing elements using negative indices\n",
    "print('The last element in x is', x[-1])\n",
    "print('The second last element in x is',x[-2])"
   ]
  },
  {
   "cell_type": "code",
   "execution_count": null,
   "metadata": {},
   "outputs": [],
   "source": [
    "# Modify elements in rank 1 ndarrays\n",
    "x = np.array([1,3,5,4,6])\n",
    "\n",
    "print('Original x:',x)\n",
    "\n",
    "# Change the fourth element in the array\n",
    "x[4] = 22\n",
    "print('Modified x:', x)"
   ]
  },
  {
   "cell_type": "code",
   "execution_count": null,
   "metadata": {},
   "outputs": [],
   "source": [
    "# Accessing elements from rank 2 ndarrays\n",
    "x = np.array([[1,2,3],[4,5,6],[7,8,9]])\n",
    "\n",
    "print('x:',x)\n",
    "\n",
    "# Accessing elements in x\n",
    "print('The (0,0) element in x:',x[0][0])\n",
    "print('The (2,1) element in x:',x[2][1])\n"
   ]
  },
  {
   "cell_type": "code",
   "execution_count": null,
   "metadata": {},
   "outputs": [],
   "source": [
    "# Modifying elements in rank 2 ndarrays\n",
    "x = np.arange(0,10).reshape((5,2))\n",
    "\n",
    "print('Original x:',x)\n",
    "\n",
    "# Modifying the element\n",
    "x[2,1] = 20\n",
    "print('Modified x', x)"
   ]
  },
  {
   "cell_type": "markdown",
   "metadata": {},
   "source": [
    "### Adding and deleting from ndarrays\n"
   ]
  },
  {
   "cell_type": "code",
   "execution_count": null,
   "metadata": {},
   "outputs": [],
   "source": [
    "# Create a rank 1 ndarray\n",
    "x = np.arange(0,10)\n",
    "\n",
    "# Create a rank 2 ndarray\n",
    "Y = np.arange(0,12).reshape(3,4)\n",
    "\n",
    "print('Original x:',x)\n",
    "print('Original Y:', Y)\n",
    "\n",
    "# Delete the first and last element of x\n",
    "x = np.delete(x,[0,4])\n",
    "\n",
    "print()\n",
    "print('Modified x:',x)\n",
    "\n",
    "# Delete the first row of Y\n",
    "w = np.delete(Y,0,axis=0)\n",
    "print('Modified Y with rows deleted:', w)\n",
    "\n",
    "# Delete the first and last column of Y\n",
    "w = np.delete(Y,[0,3],axis=1)\n",
    "print('Modified Y with columns deleted:',w)\n"
   ]
  },
  {
   "cell_type": "markdown",
   "metadata": {},
   "source": [
    "### Appending values to ndarrays"
   ]
  },
  {
   "cell_type": "code",
   "execution_count": 39,
   "metadata": {},
   "outputs": [
    {
     "output_type": "stream",
     "name": "stdout",
     "text": "Original x \n [1 2 3 4 5]\n\nAppend 6 to x\n [1 2 3 4 5 6]\n\nAppend 7,8 to x\n [1 2 3 4 5 6 7 8]\n"
    }
   ],
   "source": [
    "# Create a rank 1 ndarray\n",
    "x = np.array([1,2,3,4,5])\n",
    "print('Original x \\n',x)\n",
    "\n",
    "# Append the value 6 to x\n",
    "x = np.append(x,6)\n",
    "print()\n",
    "print(\"Append 6 to x\\n\",x)\n",
    "\n",
    "# Append values [7,8] to x\n",
    "x = np.append(x,[7,8])\n",
    "\n",
    "print()\n",
    "print('Append 7,8 to x\\n',x)"
   ]
  },
  {
   "cell_type": "code",
   "execution_count": 35,
   "metadata": {},
   "outputs": [
    {
     "output_type": "stream",
     "name": "stdout",
     "text": "\nOriginal Y = \n [[1 2 3]\n [4 5 6]]\n\nv = \n [[1 2 3]\n [4 5 6]\n [7 8 9]]\n\nq = \n [[ 1  2  3 10]\n [ 4  5  6 11]]\n"
    }
   ],
   "source": [
    "# We create a rank 2 ndarray \n",
    "Y = np.array([[1,2,3],[4,5,6]])\n",
    "\n",
    "# We print Y\n",
    "print()\n",
    "print('Original Y = \\n', Y)\n",
    "\n",
    "# We append a new row containing 7,8,9 to y\n",
    "v = np.append(Y, [[7,8,9]], axis=0)\n",
    "\n",
    "# We append a new column containing 9 and 10 to y\n",
    "q = np.append(Y, [[10],[11]], axis=1)\n",
    "\n",
    "# We print v\n",
    "print()\n",
    "print('v = \\n', v)\n",
    "\n",
    "# We print q\n",
    "print()\n",
    "print('q = \\n', q)"
   ]
  },
  {
   "cell_type": "markdown",
   "metadata": {},
   "source": [
    "### Inserting values into ndarrays "
   ]
  },
  {
   "cell_type": "code",
   "execution_count": 4,
   "metadata": {},
   "outputs": [
    {
     "output_type": "stream",
     "name": "stdout",
     "text": "Original x\n [1 2 3 4 5]\n\nModified x\n [1 2 7 8 3 4 5]\n"
    }
   ],
   "source": [
    "# Create a rank 1 ndarray\n",
    "x = np.array([1,2,3,4,5])\n",
    "print('Original x\\n',x)\n",
    "\n",
    "# Insert elements 7,8 after 3rd element\n",
    "x = np.insert(x, 2, [7,8])\n",
    "print()\n",
    "print('Modified x\\n',x)"
   ]
  },
  {
   "cell_type": "code",
   "execution_count": 13,
   "metadata": {},
   "outputs": [
    {
     "output_type": "stream",
     "name": "stdout",
     "text": "Original Y\n [[1 2 3]\n [4 5 6]]\n\nInserting a row in Y\n [[1 2 3]\n [7 8 9]\n [4 5 6]]\n\nInserting a column at index 1\n [[ 1 10 20  2  3]\n [ 4 10 20  5  6]]\n"
    }
   ],
   "source": [
    "# Create a rank 2 ndarray\n",
    "Y = np.array([[1,2,3],[4,5,6]])\n",
    "print('Original Y\\n', Y)\n",
    "\n",
    "# Insert a row between first and last elements of Y\n",
    "print()\n",
    "v= np.insert(Y,1,[[7,8,9]],axis=0)\n",
    "print('Inserting a row in Y\\n',v)\n",
    "\n",
    "# Insert a column after first column in Y\n",
    "print()\n",
    "w = np.insert(Y,1,[[10],[20]], axis=1)\n",
    "print('Inserting a column at index 1\\n',w)"
   ]
  },
  {
   "cell_type": "markdown",
   "metadata": {},
   "source": [
    "### Stacking arrays"
   ]
  },
  {
   "cell_type": "markdown",
   "metadata": {},
   "source": [
    "### Vertical Stacking"
   ]
  },
  {
   "cell_type": "code",
   "execution_count": 18,
   "metadata": {},
   "outputs": [
    {
     "output_type": "stream",
     "name": "stdout",
     "text": "x\n [1 2]\n\nY\n [[3 4]\n [5 6]]\n\nVertical stacked array z\n [[1 2]\n [3 4]\n [5 6]]\n"
    }
   ],
   "source": [
    "# Create a rank 1 ndarray\n",
    "x = np.array([1,2])\n",
    "print('x\\n',x)\n",
    "\n",
    "# Create a rank 2 ndarray\n",
    "Y = np.array([[3,4],[5,6]])\n",
    "print()\n",
    "print('Y\\n',Y)\n",
    "\n",
    "# Stack x on top of Y\n",
    "z = np.vstack((x,Y))\n",
    "print()\n",
    "print('Vertical stacked array z\\n', z)"
   ]
  },
  {
   "cell_type": "markdown",
   "metadata": {},
   "source": [
    "### Horizontal Stacking"
   ]
  },
  {
   "cell_type": "code",
   "execution_count": 24,
   "metadata": {},
   "outputs": [
    {
     "output_type": "stream",
     "name": "stdout",
     "text": "x\n [[1]\n [2]\n [3]]\n\nY\n [[ 4  5  6]\n [ 7  8  9]\n [10 11 12]]\n\nw\n [[ 1  4  5  6]\n [ 2  7  8  9]\n [ 3 10 11 12]]\n"
    }
   ],
   "source": [
    "# Create a rank 1 ndarray\n",
    "x = np.array([[1],[2],[3]])\n",
    "print('x\\n',x)\n",
    "\n",
    "# Create a rank 2 ndarray\n",
    "Y = np.array([[4,5,6],[7,8,9],[10,11,12]])\n",
    "print()\n",
    "print('Y\\n',Y)\n",
    "\n",
    "# Stack x on Y horizontally\n",
    "w = np.hstack((x,Y))\n",
    "print()\n",
    "print('w\\n',w)\n"
   ]
  },
  {
   "cell_type": "code",
   "execution_count": null,
   "metadata": {},
   "outputs": [],
   "source": []
  }
 ],
 "metadata": {
  "language_info": {
   "codemirror_mode": {
    "name": "ipython",
    "version": 3
   },
   "file_extension": ".py",
   "mimetype": "text/x-python",
   "name": "python",
   "nbconvert_exporter": "python",
   "pygments_lexer": "ipython3",
   "version": "3.8.2-final"
  },
  "orig_nbformat": 2,
  "kernelspec": {
   "name": "python3",
   "display_name": "Python 3"
  }
 },
 "nbformat": 4,
 "nbformat_minor": 2
}