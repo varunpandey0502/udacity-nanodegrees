{
 "cells": [
  {
   "cell_type": "markdown",
   "metadata": {},
   "source": [
    "# Slicing ndarrays"
   ]
  },
  {
   "cell_type": "markdown",
   "metadata": {},
   "source": [
    "As we mentioned earlier, in addition to being able to access individual elements one at a time, NumPy provides a way to access subsets of ndarrays. This is known as slicing. Slicing is performed by combining indices with the colon : symbol inside the square brackets. In general you will come across three types of slicing:\n",
    "\n",
    "1. ndarray\\[start:end\\]\n",
    "2. ndarray\\[start:\\]\n",
    "3. ndarray\\[:end\\]\n",
    "The first method is used to select elements between the start and end indices. The second method is used to select all elements from the start index till the last index. The third method is used to select all elements from the first index till the end index. We should note that in methods one and three, the end index is excluded. We should also note that since ndarrays can be multidimensional, when doing slicing you usually have to specify a slice for each dimension of the array.\n",
    "\n",
    "We will now see some examples of how to use the above methods to select different subsets of a rank 2 ndarray."
   ]
  },
  {
   "cell_type": "code",
   "execution_count": 2,
   "metadata": {},
   "outputs": [],
   "source": [
    "import numpy as np"
   ]
  },
  {
   "cell_type": "markdown",
   "metadata": {},
   "source": [
    "## Selecting subsets of arrays"
   ]
  },
  {
   "cell_type": "code",
   "execution_count": 13,
   "metadata": {},
   "outputs": [
    {
     "output_type": "stream",
     "name": "stdout",
     "text": "x\n [[ 0  1  2  3  4]\n [ 5  6  7  8  9]\n [10 11 12 13 14]\n [15 16 17 18 19]]\nZ\n [[ 7  8  9]\n [12 13 14]\n [17 18 19]]\nw\n [[ 7  8  9]\n [12 13 14]\n [17 18 19]]\nv\n [10 11 12 13 14]\nq\n [ 2  7 12 17]\nr\n [[ 2]\n [ 7]\n [12]\n [17]]\n(4, 1)\n"
    }
   ],
   "source": [
    "# Create 4*5 ndarray containing integers from 0 to 19\n",
    "x = np.arange(20).reshape((4,5))\n",
    "print('x\\n',x)\n",
    "\n",
    "# We select all the elements that are in the 2nd through 4th rows and in the 3rd to 5th columns\n",
    "Z = x[1:4,2:5]\n",
    "print('Z\\n', Z)\n",
    "\n",
    "# Selecting the same elements using method 2\n",
    "w = x[1:,2:]\n",
    "print('w\\n',w)\n",
    "\n",
    "# Selecting all elements in the 3rd row\n",
    "v = x[2,:]\n",
    "print('v\\n',v)\n",
    "\n",
    "# Selecting all elements in the 3rd column\n",
    "q = x[:,2]\n",
    "print('q\\n',q)\n",
    "\n",
    "# Selecting all elements in the 3rd column but returning a rank 2 ndarray\n",
    "r = x[:,2:3]\n",
    "print('r\\n',r)\n",
    "print(r.shape)"
   ]
  },
  {
   "cell_type": "markdown",
   "metadata": {},
   "source": [
    "Notice that when we selected all the elements in the 3rd column, variable q above, the slice returned a rank 1 ndarray instead of a rank 2 ndarray. However, slicing X in a slightly different way, variable R above, we can actually get a rank 2 ndarray instead."
   ]
  },
  {
   "cell_type": "markdown",
   "metadata": {},
   "source": [
    "## Arrays and Views\n",
    "\n",
    "It is important to note that when we perform slices on ndarrays and save them into new variables, as we did above, the data is not copied into the new variable. This is one feature that often causes confusion for beginners. Therefore, we will look at this in a bit more detail.\n",
    "\n",
    "In the above examples, when we make assignments, such as:\n",
    "\n",
    "Z = X\\[1:4,2:5\\]\n",
    "the slice of the original array X is not copied in the variable Z. Rather, X and Z are now just two different names for the same ndarray. We say that slicing only creates a view of the original array. This means that if you make changes in Z you will be in effect changing the elements in X as well. Let's see this with an example:"
   ]
  },
  {
   "cell_type": "code",
   "execution_count": 11,
   "metadata": {},
   "outputs": [
    {
     "output_type": "stream",
     "name": "stdout",
     "text": "x:\n [[ 0  1  2  3  4]\n [ 5  6  7  8  9]\n [10 11 12 13 14]\n [15 16 17 18 19]]\n\nZ\n [[ 7  8  9]\n [12 13 14]\n [17 18 19]]\n\nZ\n [[ 7  8  9]\n [12 13 14]\n [17 18 55]]\n\nx\n [[ 0  1  2  3  4]\n [ 5  6  7  8  9]\n [10 11 12 13 14]\n [15 16 17 18 55]]\n"
    }
   ],
   "source": [
    "# We create a 4*5 ndarray that contains integers from 0 to 19\n",
    "\n",
    "x = np.arange(0,20).reshape((4,5))\n",
    "print('x:\\n',x)\n",
    "\n",
    "# We select elements that are in the 2nd to 4th rows and in the 3rd to 4th columns\n",
    "Z = x[1:4,2:5]\n",
    "print()\n",
    "print('Z\\n',Z)\n",
    "\n",
    "# Change the last element in z to 5\n",
    "Z[2][2] = 55\n",
    "print()\n",
    "print('Z\\n',Z)\n",
    "\n",
    "# Print x and see if it's element changed\n",
    "print()\n",
    "print('x\\n',x)\n"
   ]
  },
  {
   "cell_type": "markdown",
   "metadata": {},
   "source": [
    "We can clearly see in the above example that if we make changes to Z, X changes as well.\n",
    "\n",
    "However, if we want to create a new ndarray that contains a copy of the values in the slice we need to use the np.copy() function. The np.copy(ndarray) function creates a copy of the given ndarray. This function can also be used as a method, in the same way as we did before with the reshape function. Let's do the same example we did before but now with copies of the arrays. We'll use copy both as a function and as a method."
   ]
  },
  {
   "cell_type": "markdown",
   "metadata": {},
   "source": [
    "## Copying ndrrays"
   ]
  },
  {
   "cell_type": "code",
   "execution_count": 18,
   "metadata": {},
   "outputs": [
    {
     "output_type": "stream",
     "name": "stdout",
     "text": "X\n [[ 0  1  2  3  4]\n [ 5  6  7  8  9]\n [10 11 12 13 14]\n [15 16 17 18 19]]\n\nZ\n [[13 14]\n [18 19]]\n\nw\n [[ 8  9]\n [13 14]\n [18 19]]\n\nModified Z\n [[13 14]\n [18 25]]\n\nX\n [[ 0  1  2  3  4]\n [ 5  6  7  8  9]\n [10 11 12 13 14]\n [15 16 17 18 19]]\n"
    }
   ],
   "source": [
    "# Create a 4*5 ndarray that contains elements from 0 to 19\n",
    "\n",
    "X = np.arange(20).reshape((4,5))\n",
    "print('X\\n',X)\n",
    "\n",
    "# Create a copy of the slice of ndarray\n",
    "Z = np.copy(X[2:,3:])\n",
    "print('\\nZ\\n',Z)\n",
    "\n",
    "# Create a copy of X using the copy() method\n",
    "w = X[1:,3:].copy()\n",
    "print('\\nw\\n',w)\n",
    "print()\n",
    "\n",
    "# Modify Z and check if elements of X have changed\n",
    "Z[1][1] = 25\n",
    "print('\\nModified Z\\n',Z)\n",
    "\n",
    "# Print X and check if elements of X have changed\n",
    "print('\\nX\\n',X)"
   ]
  },
  {
   "cell_type": "markdown",
   "metadata": {},
   "source": [
    "## Using ndarrays to make slices\n",
    "\n",
    "It is often useful to use one ndarray to make slices, select, or change elements in another ndarray. Let's see some examples:"
   ]
  },
  {
   "cell_type": "code",
   "execution_count": 30,
   "metadata": {},
   "outputs": [
    {
     "output_type": "stream",
     "name": "stdout",
     "text": "x\n [[ 0  1  2  3  4]\n [ 5  6  7  8  9]\n [10 11 12 13 14]\n [15 16 17 18 19]]\n\nw\n [[ 5  6  7  8  9]\n [10 11 12 13 14]]\n\nv\n [[ 1  2]\n [ 6  7]\n [11 12]\n [16 17]]\n"
    }
   ],
   "source": [
    "# Create a 4*5 ndarray that contains elements from 0 to 19\n",
    "x = np.arange(20).reshape((4,5))\n",
    "print('x\\n',x)\n",
    "\n",
    "# Create indices array\n",
    "indices = np.array([1,2])\n",
    "\n",
    "# Obtain the 2nd and 3rd rows of x\n",
    "w = x[indices]\n",
    "print()\n",
    "print('w\\n',w)\n",
    "\n",
    "# Obtain the 2nd and 3rd columns of x\n",
    "v = x[:,indices]\n",
    "print()\n",
    "print('v\\n',v)"
   ]
  },
  {
   "cell_type": "markdown",
   "metadata": {},
   "source": [
    "## Using built-in functions to select specific elements in arrays\n",
    "\n",
    "NumPy also offers built-in functions to select specific elements within ndarrays. For example, the np.diag(ndarray, k=N) function extracts the elements along the diagonal defined by N. As default is k=0, which refers to the main diagonal. Values of k > 0 are used to select elements in diagonals above the main diagonal, and values of k < 0 are used to select elements in diagonals below the main diagonal. Let's see an example:"
   ]
  },
  {
   "cell_type": "code",
   "execution_count": 34,
   "metadata": {},
   "outputs": [
    {
     "output_type": "stream",
     "name": "stdout",
     "text": "x\n [[ 0  1  2  3  4]\n [ 5  6  7  8  9]\n [10 11 12 13 14]\n [15 16 17 18 19]]\nz\n [ 0  6 12 18]\nv\n [ 5 11 17]\nw\n [ 1  7 13 19]\n"
    }
   ],
   "source": [
    "# Create a 4*5 array with elements from 0 to 19\n",
    "x = np.arange(20).reshape((4,5))\n",
    "print('x\\n',x)\n",
    "\n",
    "# Print elements in the main diagonal of x\n",
    "z = np.diagonal(x)\n",
    "print('z\\n',z)\n",
    "\n",
    "# Print elements across lower diagonal of x\n",
    "v = np.diagonal(x,-1)\n",
    "print('v\\n',v)\n",
    "\n",
    "# Print elements across upper diagonal of x\n",
    "w = np.diagonal(x,1)\n",
    "print('w\\n',w)"
   ]
  },
  {
   "cell_type": "markdown",
   "metadata": {},
   "source": [
    "## Extracting unique elements in an array\n",
    "\n",
    "It is often useful to extract only the unique elements in an ndarray. We can find the unique elements in an ndarray by using the np.unique() function. The np.unique(ndarray) function returns the unique elements in the given ndarray, as in the example below:"
   ]
  },
  {
   "cell_type": "code",
   "execution_count": 37,
   "metadata": {},
   "outputs": [
    {
     "output_type": "stream",
     "name": "stdout",
     "text": "x\n [[1 2 3]\n [1 2 3]\n [1 2 5]]\n\nw\n [1 2 3 5]\n"
    }
   ],
   "source": [
    "# Create a 3*3 ndarray with repeated values\n",
    "x = np.array([[1,2,3],[1,2,3],[1,2,5]])\n",
    "print('x\\n',x)\n",
    "\n",
    "# Get unique values from x\n",
    "w = np.unique(x)\n",
    "print()\n",
    "print('w\\n',w)"
   ]
  },
  {
   "cell_type": "code",
   "execution_count": null,
   "metadata": {},
   "outputs": [],
   "source": []
  }
 ],
 "metadata": {
  "language_info": {
   "codemirror_mode": {
    "name": "ipython",
    "version": 3
   },
   "file_extension": ".py",
   "mimetype": "text/x-python",
   "name": "python",
   "nbconvert_exporter": "python",
   "pygments_lexer": "ipython3",
   "version": "3.8.2-final"
  },
  "orig_nbformat": 2,
  "kernelspec": {
   "name": "python38264bitaipythonconda419b377572bb4455b46b2696d8e68b23",
   "display_name": "Python 3.8.2 64-bit ('ai-python': conda)"
  }
 },
 "nbformat": 4,
 "nbformat_minor": 2
}