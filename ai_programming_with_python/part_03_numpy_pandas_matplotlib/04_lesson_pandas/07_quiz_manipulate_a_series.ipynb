{
 "cells": [
  {
   "cell_type": "markdown",
   "metadata": {},
   "source": [
    "# Manipulate a Series"
   ]
  },
  {
   "cell_type": "code",
   "execution_count": null,
   "metadata": {},
   "outputs": [],
   "source": [
    "\n",
    "# Create a Pandas Series that contains the distance of some planets from the Sun.\n",
    "# Use the name of the planets as the index to your Pandas Series, and the distance\n",
    "# from the Sun as your data. The distance from the Sun is in units of 10^6 km\n",
    "\n",
    "distance_from_sun = [149.6, 1433.5, 227.9, 108.2, 778.6]\n",
    "\n",
    "planets = ['Earth','Saturn', 'Mars','Venus', 'Jupiter']\n",
    "\n",
    "# Create a Pandas Series using the above data, with the name of the planets as\n",
    "# the index and the distance from the Sun as your data.\n",
    "dist_planets = \n",
    "\n",
    "# Calculate the number of minutes it takes sunlight to reach each planet. You can\n",
    "# do this by dividing the distance from the Sun for each planet by the speed of light.\n",
    "# Since in the data above the distance from the Sun is in units of 10^6 km, you can\n",
    "# use a value for the speed of light of c = 18, since light travels 18 x 10^6 km/minute.\n",
    "time_light = \n",
    "\n",
    "# Use Boolean indexing to select only those planets for which sunlight takes less\n",
    "# than 40 minutes to reach them.\n",
    "close_planets = "
   ]
  }
 ],
 "metadata": {
  "language_info": {
   "codemirror_mode": {
    "name": "ipython",
    "version": 3
   },
   "file_extension": ".py",
   "mimetype": "text/x-python",
   "name": "python",
   "nbconvert_exporter": "python",
   "pygments_lexer": "ipython3",
   "version": "3.8.2-final"
  },
  "orig_nbformat": 2,
  "kernelspec": {
   "name": "python38264bitaipndconda836c0cab5c1f428bbaffa43d6e24b27b",
   "display_name": "Python 3.8.2 64-bit ('aipnd': conda)"
  }
 },
 "nbformat": 4,
 "nbformat_minor": 2
}