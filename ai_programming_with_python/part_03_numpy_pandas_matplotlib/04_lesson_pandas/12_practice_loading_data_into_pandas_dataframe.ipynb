{
 "cells": [
  {
   "cell_type": "markdown",
   "metadata": {},
   "source": [
    "# Loading Data into a pandas DataFrame"
   ]
  },
  {
   "cell_type": "markdown",
   "metadata": {},
   "source": [
    "In machine learning you will most likely use databases from many sources to train your learning algorithms. Pandas allows us to load databases of different formats into DataFrames. One of the most popular data formats used to store databases is csv. CSV stands for Comma Separated Values and offers a simple format to store data. We can load CSV files into Pandas DataFrames using the pd.read_csv() function. "
   ]
  },
  {
   "cell_type": "code",
   "execution_count": 1,
   "metadata": {},
   "outputs": [],
   "source": [
    "import pandas as pd"
   ]
  },
  {
   "cell_type": "code",
   "execution_count": 3,
   "metadata": {},
   "outputs": [],
   "source": [
    "# Load Google stock data into a pandas dataframe\n",
    "\n",
    "Google_stock = pd.read_csv('GOOG.csv')"
   ]
  },
  {
   "cell_type": "code",
   "execution_count": 4,
   "metadata": {},
   "outputs": [
    {
     "output_type": "execute_result",
     "data": {
      "text/plain": "            Date        Open        High         Low       Close   Adj Close  \\\n0     2004-08-19   49.676899   51.693783   47.669952   49.845802   49.845802   \n1     2004-08-20   50.178635   54.187561   49.925285   53.805050   53.805050   \n2     2004-08-23   55.017166   56.373344   54.172661   54.346527   54.346527   \n3     2004-08-24   55.260582   55.439419   51.450363   52.096165   52.096165   \n4     2004-08-25   52.140873   53.651051   51.604362   52.657513   52.657513   \n...          ...         ...         ...         ...         ...         ...   \n3308  2017-10-09  980.000000  985.424988  976.109985  977.000000  977.000000   \n3309  2017-10-10  980.000000  981.570007  966.080017  972.599976  972.599976   \n3310  2017-10-11  973.719971  990.710022  972.250000  989.250000  989.250000   \n3311  2017-10-12  987.450012  994.119995  985.000000  987.830017  987.830017   \n3312  2017-10-13  992.000000  997.210022  989.000000  989.679993  989.679993   \n\n        Volume  \n0     44994500  \n1     23005800  \n2     18393200  \n3     15361800  \n4      9257400  \n...        ...  \n3308    891400  \n3309    968400  \n3310   1693300  \n3311   1262400  \n3312   1157700  \n\n[3313 rows x 7 columns]",
      "text/html": "<div>\n<style scoped>\n    .dataframe tbody tr th:only-of-type {\n        vertical-align: middle;\n    }\n\n    .dataframe tbody tr th {\n        vertical-align: top;\n    }\n\n    .dataframe thead th {\n        text-align: right;\n    }\n</style>\n<table border=\"1\" class=\"dataframe\">\n  <thead>\n    <tr style=\"text-align: right;\">\n      <th></th>\n      <th>Date</th>\n      <th>Open</th>\n      <th>High</th>\n      <th>Low</th>\n      <th>Close</th>\n      <th>Adj Close</th>\n      <th>Volume</th>\n    </tr>\n  </thead>\n  <tbody>\n    <tr>\n      <th>0</th>\n      <td>2004-08-19</td>\n      <td>49.676899</td>\n      <td>51.693783</td>\n      <td>47.669952</td>\n      <td>49.845802</td>\n      <td>49.845802</td>\n      <td>44994500</td>\n    </tr>\n    <tr>\n      <th>1</th>\n      <td>2004-08-20</td>\n      <td>50.178635</td>\n      <td>54.187561</td>\n      <td>49.925285</td>\n      <td>53.805050</td>\n      <td>53.805050</td>\n      <td>23005800</td>\n    </tr>\n    <tr>\n      <th>2</th>\n      <td>2004-08-23</td>\n      <td>55.017166</td>\n      <td>56.373344</td>\n      <td>54.172661</td>\n      <td>54.346527</td>\n      <td>54.346527</td>\n      <td>18393200</td>\n    </tr>\n    <tr>\n      <th>3</th>\n      <td>2004-08-24</td>\n      <td>55.260582</td>\n      <td>55.439419</td>\n      <td>51.450363</td>\n      <td>52.096165</td>\n      <td>52.096165</td>\n      <td>15361800</td>\n    </tr>\n    <tr>\n      <th>4</th>\n      <td>2004-08-25</td>\n      <td>52.140873</td>\n      <td>53.651051</td>\n      <td>51.604362</td>\n      <td>52.657513</td>\n      <td>52.657513</td>\n      <td>9257400</td>\n    </tr>\n    <tr>\n      <th>...</th>\n      <td>...</td>\n      <td>...</td>\n      <td>...</td>\n      <td>...</td>\n      <td>...</td>\n      <td>...</td>\n      <td>...</td>\n    </tr>\n    <tr>\n      <th>3308</th>\n      <td>2017-10-09</td>\n      <td>980.000000</td>\n      <td>985.424988</td>\n      <td>976.109985</td>\n      <td>977.000000</td>\n      <td>977.000000</td>\n      <td>891400</td>\n    </tr>\n    <tr>\n      <th>3309</th>\n      <td>2017-10-10</td>\n      <td>980.000000</td>\n      <td>981.570007</td>\n      <td>966.080017</td>\n      <td>972.599976</td>\n      <td>972.599976</td>\n      <td>968400</td>\n    </tr>\n    <tr>\n      <th>3310</th>\n      <td>2017-10-11</td>\n      <td>973.719971</td>\n      <td>990.710022</td>\n      <td>972.250000</td>\n      <td>989.250000</td>\n      <td>989.250000</td>\n      <td>1693300</td>\n    </tr>\n    <tr>\n      <th>3311</th>\n      <td>2017-10-12</td>\n      <td>987.450012</td>\n      <td>994.119995</td>\n      <td>985.000000</td>\n      <td>987.830017</td>\n      <td>987.830017</td>\n      <td>1262400</td>\n    </tr>\n    <tr>\n      <th>3312</th>\n      <td>2017-10-13</td>\n      <td>992.000000</td>\n      <td>997.210022</td>\n      <td>989.000000</td>\n      <td>989.679993</td>\n      <td>989.679993</td>\n      <td>1157700</td>\n    </tr>\n  </tbody>\n</table>\n<p>3313 rows × 7 columns</p>\n</div>"
     },
     "metadata": {},
     "execution_count": 4
    }
   ],
   "source": [
    "Google_stock"
   ]
  },
  {
   "cell_type": "markdown",
   "metadata": {},
   "source": [
    "We can take a look at the first 5 rows of data using the .head() method"
   ]
  },
  {
   "cell_type": "code",
   "execution_count": 6,
   "metadata": {},
   "outputs": [
    {
     "output_type": "execute_result",
     "data": {
      "text/plain": "         Date       Open       High        Low      Close  Adj Close    Volume\n0  2004-08-19  49.676899  51.693783  47.669952  49.845802  49.845802  44994500\n1  2004-08-20  50.178635  54.187561  49.925285  53.805050  53.805050  23005800\n2  2004-08-23  55.017166  56.373344  54.172661  54.346527  54.346527  18393200\n3  2004-08-24  55.260582  55.439419  51.450363  52.096165  52.096165  15361800\n4  2004-08-25  52.140873  53.651051  51.604362  52.657513  52.657513   9257400",
      "text/html": "<div>\n<style scoped>\n    .dataframe tbody tr th:only-of-type {\n        vertical-align: middle;\n    }\n\n    .dataframe tbody tr th {\n        vertical-align: top;\n    }\n\n    .dataframe thead th {\n        text-align: right;\n    }\n</style>\n<table border=\"1\" class=\"dataframe\">\n  <thead>\n    <tr style=\"text-align: right;\">\n      <th></th>\n      <th>Date</th>\n      <th>Open</th>\n      <th>High</th>\n      <th>Low</th>\n      <th>Close</th>\n      <th>Adj Close</th>\n      <th>Volume</th>\n    </tr>\n  </thead>\n  <tbody>\n    <tr>\n      <th>0</th>\n      <td>2004-08-19</td>\n      <td>49.676899</td>\n      <td>51.693783</td>\n      <td>47.669952</td>\n      <td>49.845802</td>\n      <td>49.845802</td>\n      <td>44994500</td>\n    </tr>\n    <tr>\n      <th>1</th>\n      <td>2004-08-20</td>\n      <td>50.178635</td>\n      <td>54.187561</td>\n      <td>49.925285</td>\n      <td>53.805050</td>\n      <td>53.805050</td>\n      <td>23005800</td>\n    </tr>\n    <tr>\n      <th>2</th>\n      <td>2004-08-23</td>\n      <td>55.017166</td>\n      <td>56.373344</td>\n      <td>54.172661</td>\n      <td>54.346527</td>\n      <td>54.346527</td>\n      <td>18393200</td>\n    </tr>\n    <tr>\n      <th>3</th>\n      <td>2004-08-24</td>\n      <td>55.260582</td>\n      <td>55.439419</td>\n      <td>51.450363</td>\n      <td>52.096165</td>\n      <td>52.096165</td>\n      <td>15361800</td>\n    </tr>\n    <tr>\n      <th>4</th>\n      <td>2004-08-25</td>\n      <td>52.140873</td>\n      <td>53.651051</td>\n      <td>51.604362</td>\n      <td>52.657513</td>\n      <td>52.657513</td>\n      <td>9257400</td>\n    </tr>\n  </tbody>\n</table>\n</div>"
     },
     "metadata": {},
     "execution_count": 6
    }
   ],
   "source": [
    "Google_stock.head()"
   ]
  },
  {
   "cell_type": "code",
   "execution_count": 7,
   "metadata": {},
   "outputs": [
    {
     "output_type": "execute_result",
     "data": {
      "text/plain": "            Date        Open        High         Low       Close   Adj Close  \\\n3308  2017-10-09  980.000000  985.424988  976.109985  977.000000  977.000000   \n3309  2017-10-10  980.000000  981.570007  966.080017  972.599976  972.599976   \n3310  2017-10-11  973.719971  990.710022  972.250000  989.250000  989.250000   \n3311  2017-10-12  987.450012  994.119995  985.000000  987.830017  987.830017   \n3312  2017-10-13  992.000000  997.210022  989.000000  989.679993  989.679993   \n\n       Volume  \n3308   891400  \n3309   968400  \n3310  1693300  \n3311  1262400  \n3312  1157700  ",
      "text/html": "<div>\n<style scoped>\n    .dataframe tbody tr th:only-of-type {\n        vertical-align: middle;\n    }\n\n    .dataframe tbody tr th {\n        vertical-align: top;\n    }\n\n    .dataframe thead th {\n        text-align: right;\n    }\n</style>\n<table border=\"1\" class=\"dataframe\">\n  <thead>\n    <tr style=\"text-align: right;\">\n      <th></th>\n      <th>Date</th>\n      <th>Open</th>\n      <th>High</th>\n      <th>Low</th>\n      <th>Close</th>\n      <th>Adj Close</th>\n      <th>Volume</th>\n    </tr>\n  </thead>\n  <tbody>\n    <tr>\n      <th>3308</th>\n      <td>2017-10-09</td>\n      <td>980.000000</td>\n      <td>985.424988</td>\n      <td>976.109985</td>\n      <td>977.000000</td>\n      <td>977.000000</td>\n      <td>891400</td>\n    </tr>\n    <tr>\n      <th>3309</th>\n      <td>2017-10-10</td>\n      <td>980.000000</td>\n      <td>981.570007</td>\n      <td>966.080017</td>\n      <td>972.599976</td>\n      <td>972.599976</td>\n      <td>968400</td>\n    </tr>\n    <tr>\n      <th>3310</th>\n      <td>2017-10-11</td>\n      <td>973.719971</td>\n      <td>990.710022</td>\n      <td>972.250000</td>\n      <td>989.250000</td>\n      <td>989.250000</td>\n      <td>1693300</td>\n    </tr>\n    <tr>\n      <th>3311</th>\n      <td>2017-10-12</td>\n      <td>987.450012</td>\n      <td>994.119995</td>\n      <td>985.000000</td>\n      <td>987.830017</td>\n      <td>987.830017</td>\n      <td>1262400</td>\n    </tr>\n    <tr>\n      <th>3312</th>\n      <td>2017-10-13</td>\n      <td>992.000000</td>\n      <td>997.210022</td>\n      <td>989.000000</td>\n      <td>989.679993</td>\n      <td>989.679993</td>\n      <td>1157700</td>\n    </tr>\n  </tbody>\n</table>\n</div>"
     },
     "metadata": {},
     "execution_count": 7
    }
   ],
   "source": [
    "Google_stock.tail()"
   ]
  },
  {
   "cell_type": "markdown",
   "metadata": {},
   "source": [
    "Let's do a quick check to see whether we have any NaN values in our dataset. To do this, we will use the .isnull() method followed by the .any() method to check whether any of the columns contain NaN values"
   ]
  },
  {
   "cell_type": "code",
   "execution_count": 9,
   "metadata": {},
   "outputs": [
    {
     "output_type": "execute_result",
     "data": {
      "text/plain": "Date         False\nOpen         False\nHigh         False\nLow          False\nClose        False\nAdj Close    False\nVolume       False\ndtype: bool"
     },
     "metadata": {},
     "execution_count": 9
    }
   ],
   "source": [
    "Google_stock.isnull().any()"
   ]
  },
  {
   "cell_type": "markdown",
   "metadata": {},
   "source": [
    "When dealing with large datasets, it is often useful to get statistical information from them. Pandas provides the .describe() method to get descriptive statistics on each column of the DataFrame. "
   ]
  },
  {
   "cell_type": "code",
   "execution_count": 10,
   "metadata": {},
   "outputs": [
    {
     "output_type": "execute_result",
     "data": {
      "text/plain": "              Open         High          Low        Close    Adj Close  \\\ncount  3313.000000  3313.000000  3313.000000  3313.000000  3313.000000   \nmean    380.186092   383.493740   376.519309   380.072458   380.072458   \nstd     223.818650   224.974534   222.473232   223.853780   223.853780   \nmin      49.274517    50.541279    47.669952    49.681866    49.681866   \n25%     226.556473   228.394516   224.003082   226.407440   226.407440   \n50%     293.312286   295.433502   289.929291   293.029114   293.029114   \n75%     536.650024   540.000000   532.409973   536.690002   536.690002   \nmax     992.000000   997.210022   989.000000   989.679993   989.679993   \n\n             Volume  \ncount  3.313000e+03  \nmean   8.038476e+06  \nstd    8.399521e+06  \nmin    7.900000e+03  \n25%    2.584900e+06  \n50%    5.281300e+06  \n75%    1.065370e+07  \nmax    8.276810e+07  ",
      "text/html": "<div>\n<style scoped>\n    .dataframe tbody tr th:only-of-type {\n        vertical-align: middle;\n    }\n\n    .dataframe tbody tr th {\n        vertical-align: top;\n    }\n\n    .dataframe thead th {\n        text-align: right;\n    }\n</style>\n<table border=\"1\" class=\"dataframe\">\n  <thead>\n    <tr style=\"text-align: right;\">\n      <th></th>\n      <th>Open</th>\n      <th>High</th>\n      <th>Low</th>\n      <th>Close</th>\n      <th>Adj Close</th>\n      <th>Volume</th>\n    </tr>\n  </thead>\n  <tbody>\n    <tr>\n      <th>count</th>\n      <td>3313.000000</td>\n      <td>3313.000000</td>\n      <td>3313.000000</td>\n      <td>3313.000000</td>\n      <td>3313.000000</td>\n      <td>3.313000e+03</td>\n    </tr>\n    <tr>\n      <th>mean</th>\n      <td>380.186092</td>\n      <td>383.493740</td>\n      <td>376.519309</td>\n      <td>380.072458</td>\n      <td>380.072458</td>\n      <td>8.038476e+06</td>\n    </tr>\n    <tr>\n      <th>std</th>\n      <td>223.818650</td>\n      <td>224.974534</td>\n      <td>222.473232</td>\n      <td>223.853780</td>\n      <td>223.853780</td>\n      <td>8.399521e+06</td>\n    </tr>\n    <tr>\n      <th>min</th>\n      <td>49.274517</td>\n      <td>50.541279</td>\n      <td>47.669952</td>\n      <td>49.681866</td>\n      <td>49.681866</td>\n      <td>7.900000e+03</td>\n    </tr>\n    <tr>\n      <th>25%</th>\n      <td>226.556473</td>\n      <td>228.394516</td>\n      <td>224.003082</td>\n      <td>226.407440</td>\n      <td>226.407440</td>\n      <td>2.584900e+06</td>\n    </tr>\n    <tr>\n      <th>50%</th>\n      <td>293.312286</td>\n      <td>295.433502</td>\n      <td>289.929291</td>\n      <td>293.029114</td>\n      <td>293.029114</td>\n      <td>5.281300e+06</td>\n    </tr>\n    <tr>\n      <th>75%</th>\n      <td>536.650024</td>\n      <td>540.000000</td>\n      <td>532.409973</td>\n      <td>536.690002</td>\n      <td>536.690002</td>\n      <td>1.065370e+07</td>\n    </tr>\n    <tr>\n      <th>max</th>\n      <td>992.000000</td>\n      <td>997.210022</td>\n      <td>989.000000</td>\n      <td>989.679993</td>\n      <td>989.679993</td>\n      <td>8.276810e+07</td>\n    </tr>\n  </tbody>\n</table>\n</div>"
     },
     "metadata": {},
     "execution_count": 10
    }
   ],
   "source": [
    "Google_stock.describe()"
   ]
  },
  {
   "cell_type": "code",
   "execution_count": 12,
   "metadata": {},
   "outputs": [
    {
     "output_type": "execute_result",
     "data": {
      "text/plain": "count    3.313000e+03\nmean     8.038476e+06\nstd      8.399521e+06\nmin      7.900000e+03\n25%      2.584900e+06\n50%      5.281300e+06\n75%      1.065370e+07\nmax      8.276810e+07\nName: Volume, dtype: float64"
     },
     "metadata": {},
     "execution_count": 12
    }
   ],
   "source": [
    "# Get descriptive stats on a single column of the dataframe\n",
    "\n",
    "Google_stock['Volume'].describe()"
   ]
  },
  {
   "cell_type": "markdown",
   "metadata": {},
   "source": [
    "Similarly, you can also look at one statistic by using one of the many statistical functions Pandas provides. "
   ]
  },
  {
   "cell_type": "code",
   "execution_count": 13,
   "metadata": {},
   "outputs": [
    {
     "output_type": "stream",
     "name": "stdout",
     "text": "Maximum values of each column: \n Date         2017-10-13\nOpen                992\nHigh             997.21\nLow                 989\nClose            989.68\nAdj Close        989.68\nVolume         82768100\ndtype: object\n"
    }
   ],
   "source": [
    "print(\"Maximum values of each column: \\n\", Google_stock.max())"
   ]
  },
  {
   "cell_type": "code",
   "execution_count": 15,
   "metadata": {},
   "outputs": [
    {
     "output_type": "stream",
     "name": "stdout",
     "text": "Minimum close value \n 49.681866\n"
    }
   ],
   "source": [
    "print(\"Minimum close value \\n\",Google_stock['Close'].min())"
   ]
  },
  {
   "cell_type": "code",
   "execution_count": 16,
   "metadata": {},
   "outputs": [
    {
     "output_type": "stream",
     "name": "stdout",
     "text": "Average value of each column \n Open         3.801861e+02\nHigh         3.834937e+02\nLow          3.765193e+02\nClose        3.800725e+02\nAdj Close    3.800725e+02\nVolume       8.038476e+06\ndtype: float64\n"
    }
   ],
   "source": [
    "print('Average value of each column \\n',Google_stock.mean())"
   ]
  },
  {
   "cell_type": "code",
   "execution_count": null,
   "metadata": {},
   "outputs": [],
   "source": []
  }
 ],
 "metadata": {
  "language_info": {
   "codemirror_mode": {
    "name": "ipython",
    "version": 3
   },
   "file_extension": ".py",
   "mimetype": "text/x-python",
   "name": "python",
   "nbconvert_exporter": "python",
   "pygments_lexer": "ipython3",
   "version": "3.8.2-final"
  },
  "orig_nbformat": 2,
  "kernelspec": {
   "name": "python38264bitaipndconda836c0cab5c1f428bbaffa43d6e24b27b",
   "display_name": "Python 3.8.2 64-bit ('aipnd': conda)"
  }
 },
 "nbformat": 4,
 "nbformat_minor": 2
}