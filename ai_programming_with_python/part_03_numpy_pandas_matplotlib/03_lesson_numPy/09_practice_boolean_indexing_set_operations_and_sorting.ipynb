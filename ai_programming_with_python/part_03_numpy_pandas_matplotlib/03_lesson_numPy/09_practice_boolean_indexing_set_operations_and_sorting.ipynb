{
 "cells": [
  {
   "cell_type": "markdown",
   "metadata": {},
   "source": [
    "# Boolean Indexing, Set Operations and Sorting\n",
    "\n",
    "Up to now we have seen how to make slices and select elements of an ndarray using indices. This is useful when we know the exact indices of the elements we want to select. However, there are many situations in which we don't know the indices of the elements we want to select. For example, suppose we have a 10,000 x 10,000 ndarray of random integers ranging from 1 to 15,000 and we only want to select those integers that are less than 20. Boolean indexing can help us in these cases, by allowing us select elements using logical arguments instead of explicit indices. Let's see some examples:"
   ]
  },
  {
   "cell_type": "code",
   "execution_count": 2,
   "metadata": {},
   "outputs": [],
   "source": [
    "import numpy as np"
   ]
  },
  {
   "cell_type": "markdown",
   "metadata": {},
   "source": [
    "## Boolean Operations"
   ]
  },
  {
   "cell_type": "code",
   "execution_count": 10,
   "metadata": {},
   "outputs": [
    {
     "output_type": "stream",
     "name": "stdout",
     "text": "Original x\n [[ 0  1  2  3  4]\n [ 5  6  7  8  9]\n [10 11 12 13 14]\n [15 16 17 18 19]\n [20 21 22 23 24]]\nThe elements in x that are greater than 17 : [18 19 20 21 22 23 24]\nThe elements in x that are less than 10: [0 1 2 3 4 5 6 7 8 9]\nThe elements in x that are greater than 10 and less than 17: [11 12 13 14 15 16]\n"
    }
   ],
   "source": [
    "# Create a 5*5 ndarray that contains elements from 0 to 24\n",
    "x = np.arange(25).reshape((5,5))\n",
    "print('Original x\\n',x)\n",
    "\n",
    "# Use boolean indexing to select elements in x\n",
    "print('The elements in x that are greater than 17 :',x[x>17])\n",
    "print('The elements in x that are less than 10:',x[x<10])\n",
    "print('The elements in x that are greater than 10 and less than 17:',x[(x>10) & (x<17)])\n"
   ]
  },
  {
   "cell_type": "markdown",
   "metadata": {},
   "source": [
    "## Set Operations"
   ]
  },
  {
   "cell_type": "code",
   "execution_count": 13,
   "metadata": {},
   "outputs": [
    {
     "output_type": "stream",
     "name": "stdout",
     "text": "The elements that are present in both x and y: [3 5]\nThe elements that are present in x but not in y: [1 6]\nAll the elements of x and y: [1 2 3 5 6 8 9]\n"
    }
   ],
   "source": [
    "# Create a rank 1 ndarray\n",
    "x = np.array([1,3,5,6])\n",
    "\n",
    "# Create another rank 1 ndarray\n",
    "y = np.array([2,3,5,8,9])\n",
    "\n",
    "print('The elements that are present in both x and y:',np.intersect1d(x,y))\n",
    "print('The elements that are present in x but not in y:', np.setdiff1d(x,y))\n",
    "print('All the elements of x and y:', np.union1d(x,y))"
   ]
  },
  {
   "cell_type": "markdown",
   "metadata": {},
   "source": [
    "## Sorting ndarrays\n",
    "\n",
    "We can also sort ndarrays in NumPy. We will learn how to use the np.sort() function to sort rank 1 and rank 2 ndarrays in different ways. Like with other functions we saw before, the sort function can also be used as a method. However, there is a big difference on how the data is stored in memory in this case. When np.sort() is used as a function, it sorts the ndrrays out of place, meaning, that it doesn't change the original ndarray being sorted. However, when you use sort as a method, ndarray.sort() sorts the ndarray in place, meaning, that the original array will be changed to the sorted one. Let's see some examples:"
   ]
  },
  {
   "cell_type": "code",
   "execution_count": 21,
   "metadata": {},
   "outputs": [
    {
     "output_type": "stream",
     "name": "stdout",
     "text": "Unsorted x\n [ 1  4 10  6  9  3 10  8  8  6]\nSorted x\n [ 1  3  4  6  6  8  8  9 10 10]\nOriginal x\n [ 1  4 10  6  9  3 10  8  8  6]\nx\n [ 1  3  4  6  6  8  8  9 10 10]\n"
    }
   ],
   "source": [
    "# Create an unsorted rank 1 ndarray\n",
    "x = np.random.randint(1,11,size=10)\n",
    "print('Unsorted x\\n',x)\n",
    "\n",
    "# Sorting the array without modifying the original array\n",
    "print('Sorted x\\n',np.sort(x))\n",
    "\n",
    "# Check if original array is modified\n",
    "print('Original x\\n',x)\n",
    "\n",
    "# Sorting the array by modifying the original array\n",
    "x.sort()\n",
    "\n",
    "# Check the original array\n",
    "print('x\\n',x)"
   ]
  },
  {
   "cell_type": "markdown",
   "metadata": {},
   "source": [
    "When sorting rank 2 ndarrays, we need to specify to the np.sort() function whether we are sorting by rows or columns. This is done by using the axis keyword. Let's see some examples:"
   ]
  },
  {
   "cell_type": "code",
   "execution_count": 27,
   "metadata": {},
   "outputs": [
    {
     "output_type": "stream",
     "name": "stdout",
     "text": "x\n [[ 7 11  9]\n [ 9  5  9]\n [12  4  2]\n [ 2 10  7]]\n\nSorting by rows\n [[ 2  4  2]\n [ 7  5  7]\n [ 9 10  9]\n [12 11  9]]\n\nSorting by columns\n [[ 7  9 11]\n [ 5  9  9]\n [ 2  4 12]\n [ 2  7 10]]\n"
    }
   ],
   "source": [
    "# Create an unsorted rank 2 ndarray\n",
    "x = np.random.randint(1,13,size=(4,3))\n",
    "print('x\\n',x)\n",
    "\n",
    "# Sort the array by rows\n",
    "print()\n",
    "print('Sorting by rows\\n',np.sort(x,axis=0))\n",
    "\n",
    "# Sort by columns\n",
    "print()\n",
    "print('Sorting by columns\\n',np.sort(x,axis=1))"
   ]
  },
  {
   "cell_type": "code",
   "execution_count": null,
   "metadata": {},
   "outputs": [],
   "source": []
  }
 ],
 "metadata": {
  "language_info": {
   "codemirror_mode": {
    "name": "ipython",
    "version": 3
   },
   "file_extension": ".py",
   "mimetype": "text/x-python",
   "name": "python",
   "nbconvert_exporter": "python",
   "pygments_lexer": "ipython3",
   "version": "3.8.2-final"
  },
  "orig_nbformat": 2,
  "kernelspec": {
   "name": "python38264bitaipythonconda419b377572bb4455b46b2696d8e68b23",
   "display_name": "Python 3.8.2 64-bit ('ai-python': conda)"
  }
 },
 "nbformat": 4,
 "nbformat_minor": 2
}