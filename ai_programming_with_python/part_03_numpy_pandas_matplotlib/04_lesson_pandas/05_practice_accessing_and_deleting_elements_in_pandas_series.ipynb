{
 "cells": [
  {
   "cell_type": "markdown",
   "metadata": {},
   "source": [
    "# Accessing and Deleting Elements in Pandas Series\n",
    "\n",
    "Now let's look at how we can access or modify elements in a Pandas Series. One great advantage of Pandas Series is that it allows us to access data in many different ways. Elements can be accessed using index labels or numerical indices inside square brackets, [ ], similar to how we access elements in NumPy ndarrays. Since we can use numerical indices, we can use both positive and negative integers to access data from the beginning or from the end of the Series, respectively. \n",
    "\n",
    "Since we can access elements in various ways, in order to remove any ambiguity to whether we are referring to an index label or numerical index, Pandas Series have two attributes, .loc and .iloc to explicitly state what we mean. The attribute .loc stands for location and it is used to explicitly state that we are using a labeled index. Similarly, the attribute .iloc stands for integer location and it is used to explicitly state that we are using a numerical index."
   ]
  },
  {
   "cell_type": "code",
   "execution_count": 34,
   "metadata": {},
   "outputs": [],
   "source": [
    "import pandas as pd"
   ]
  },
  {
   "cell_type": "code",
   "execution_count": 35,
   "metadata": {},
   "outputs": [],
   "source": [
    "groceries = pd.Series(data=[30,6,\"Yes\",'No'],index=['eggs','apples','milk','bread'])"
   ]
  },
  {
   "cell_type": "code",
   "execution_count": 38,
   "metadata": {},
   "outputs": [
    {
     "output_type": "stream",
     "name": "stdout",
     "text": "No of eggs in groceries:  30\nDo we need milk and bread \n milk     Yes\nbread     No\ndtype: object\nHow many eggs and apples do we need to buy\n eggs      30\napples     6\ndtype: object\nHow many eggs and apples do we need to buy\n eggs      30\napples     6\ndtype: object\nHow many eggs are in the groceries list \n 30\n"
    }
   ],
   "source": [
    "# Use a single index label\n",
    "print('No of eggs in groceries: ', groceries.eggs)\n",
    "\n",
    "# Use multiple labels to fetch multiple items\n",
    "print('Do we need milk and bread \\n',groceries[['milk','bread']])\n",
    "\n",
    "# Use loc to acces elements\n",
    "print('How many eggs and apples do we need to buy\\n',groceries.loc[['eggs','apples']])\n",
    "\n",
    "# Access elements using numerical indices\n",
    "print('How many eggs and apples do we need to buy\\n', groceries.iloc[[0,1]])\n",
    "\n",
    "# Accessing a single element using numerical index\n",
    "print('How many eggs are in the groceries list \\n',groceries.iloc[0])"
   ]
  },
  {
   "cell_type": "markdown",
   "metadata": {},
   "source": [
    "Pandas Series are also mutable like NumPy ndarrays, which means we can change the elements of a Pandas Series after it has been created. For example, let's change the number of eggs we need to buy from our grocery list"
   ]
  },
  {
   "cell_type": "code",
   "execution_count": 25,
   "metadata": {},
   "outputs": [
    {
     "output_type": "stream",
     "name": "stdout",
     "text": "Original groceries \n eggs       30\napples      6\nmilk      Yes\nbread      No\ndtype: object\n\nModified groceries \n eggs        5\napples      6\nmilk      Yes\nbread      No\ndtype: object\n"
    }
   ],
   "source": [
    "# Display the original groceries data\n",
    "print('Original groceries \\n',groceries)\n",
    "\n",
    "# Modify the number of eggs to 2\n",
    "groceries['eggs'] = 5\n",
    "\n",
    "print('\\nModified groceries \\n',groceries)"
   ]
  },
  {
   "cell_type": "markdown",
   "metadata": {},
   "source": [
    "We can also delete items from a Pandas Series by using the .drop() method. The Series.drop(label) method removes the given label from the given Series. We should note that the Series.drop(label) method drops elements from the Series out of place, meaning that it doesn't change the original Series being modified. "
   ]
  },
  {
   "cell_type": "code",
   "execution_count": 26,
   "metadata": {},
   "outputs": [
    {
     "output_type": "stream",
     "name": "stdout",
     "text": "Original groceries \n eggs        5\napples      6\nmilk      Yes\nbread      No\ndtype: object\n\nRemoving apples out place \n eggs       5\nmilk     Yes\nbread     No\ndtype: object\n\nOriginal groceries list \n eggs        5\napples      6\nmilk      Yes\nbread      No\ndtype: object\n\nRemoving apples out place \n None\n\nOriginal groceries list \n eggs       5\nmilk     Yes\nbread     No\ndtype: object\n"
    }
   ],
   "source": [
    "# Display original groceries list\n",
    "print('Original groceries \\n',groceries)\n",
    "\n",
    "# Drop the apples column out of place\n",
    "print()\n",
    "print('Removing apples out place \\n', groceries.drop('apples'))\n",
    "\n",
    "\n",
    "print()\n",
    "print('Original groceries list \\n', groceries)\n",
    "\n",
    "# Removing apples in place\n",
    "print()\n",
    "print('Removing apples out place \\n', groceries.drop('apples',inplace=True))\n",
    "\n",
    "\n",
    "print()\n",
    "print('Original groceries list \\n', groceries)\n"
   ]
  }
 ],
 "metadata": {
  "language_info": {
   "codemirror_mode": {
    "name": "ipython",
    "version": 3
   },
   "file_extension": ".py",
   "mimetype": "text/x-python",
   "name": "python",
   "nbconvert_exporter": "python",
   "pygments_lexer": "ipython3",
   "version": "3.8.2-final"
  },
  "orig_nbformat": 2,
  "kernelspec": {
   "name": "python38264bitaipndconda836c0cab5c1f428bbaffa43d6e24b27b",
   "display_name": "Python 3.8.2 64-bit ('aipnd': conda)"
  }
 },
 "nbformat": 4,
 "nbformat_minor": 2
}