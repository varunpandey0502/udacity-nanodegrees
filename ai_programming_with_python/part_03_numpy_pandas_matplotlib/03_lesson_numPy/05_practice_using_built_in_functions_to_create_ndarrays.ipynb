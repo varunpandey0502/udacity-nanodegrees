{
 "cells": [
  {
   "cell_type": "code",
   "execution_count": 14,
   "metadata": {},
   "outputs": [],
   "source": [
    "import numpy as np"
   ]
  },
  {
   "cell_type": "code",
   "execution_count": 15,
   "metadata": {},
   "outputs": [
    {
     "output_type": "stream",
     "name": "stdout",
     "text": "[[0. 0.]\n [0. 0.]\n [0. 0.]]\nX has dimensions: (3, 2)\nX is an object of type: <class 'numpy.ndarray'>\nThe elements in X are of type: float64\n"
    }
   ],
   "source": [
    "# Create an nd array of a specified shape full of zeroes\n",
    "X = np.zeros((3,2))\n",
    "print(X)\n",
    "\n",
    "# We print information about X\n",
    "print('X has dimensions:', X.shape)\n",
    "print('X is an object of type:', type(X))\n",
    "print('The elements in X are of type:', X.dtype)"
   ]
  },
  {
   "cell_type": "code",
   "execution_count": 16,
   "metadata": {},
   "outputs": [
    {
     "output_type": "stream",
     "name": "stdout",
     "text": "[[1. 1. 1. 1. 1.]\n [1. 1. 1. 1. 1.]\n [1. 1. 1. 1. 1.]]\nX has dimensions: (3, 5)\nX is an object of type: <class 'numpy.ndarray'>\nThe elements in X are of type: float64\n"
    }
   ],
   "source": [
    "# Create an ndarray full of ones\n",
    "X = np.ones((3,5))\n",
    "print(X)\n",
    "\n",
    "# We print information about X\n",
    "print('X has dimensions:', X.shape)\n",
    "print('X is an object of type:', type(X))\n",
    "print('The elements in X are of type:', X.dtype)"
   ]
  },
  {
   "cell_type": "code",
   "execution_count": 17,
   "metadata": {},
   "outputs": [
    {
     "output_type": "stream",
     "name": "stdout",
     "text": "[[5 5 5 5 5]\n [5 5 5 5 5]\n [5 5 5 5 5]]\nX has dimensions: (3, 5)\nX is an object of type: <class 'numpy.ndarray'>\nThe elements in X are of type: int64\n"
    }
   ],
   "source": [
    "# Create ndarray of a specified shape that is full of any number that we want\n",
    "X = np.full((3,5),5)\n",
    "print(X)\n",
    "\n",
    "# We print information about X\n",
    "print('X has dimensions:', X.shape)\n",
    "print('X is an object of type:', type(X))\n",
    "print('The elements in X are of type:', X.dtype)"
   ]
  },
  {
   "cell_type": "code",
   "execution_count": 18,
   "metadata": {},
   "outputs": [
    {
     "output_type": "stream",
     "name": "stdout",
     "text": "[[1. 0. 0. 0. 0.]\n [0. 1. 0. 0. 0.]\n [0. 0. 1. 0. 0.]\n [0. 0. 0. 1. 0.]\n [0. 0. 0. 0. 1.]]\nX has dimensions: (5, 5)\nX is an object of type: <class 'numpy.ndarray'>\nThe elements in X are of type: float64\n"
    }
   ],
   "source": [
    "# Create an identity matrix\n",
    "X = np.eye(5)\n",
    "print(X)\n",
    "\n",
    "# We print information about X\n",
    "print('X has dimensions:', X.shape)\n",
    "print('X is an object of type:', type(X))\n",
    "print('The elements in X are of type:', X.dtype)"
   ]
  },
  {
   "cell_type": "code",
   "execution_count": 19,
   "metadata": {},
   "outputs": [
    {
     "output_type": "stream",
     "name": "stdout",
     "text": "[[1 0 0 0]\n [0 5 0 0]\n [0 0 6 0]\n [0 0 0 7]]\nX has dimensions: (4, 4)\nX is an object of type: <class 'numpy.ndarray'>\nThe elements in X are of type: int64\n"
    }
   ],
   "source": [
    "# Create a diagonal matrix\n",
    "X = np.diag([1,5,6,7])\n",
    "\n",
    "print(X)\n",
    "\n",
    "# We print information about X\n",
    "print('X has dimensions:', X.shape)\n",
    "print('X is an object of type:', type(X))\n",
    "print('The elements in X are of type:', X.dtype)"
   ]
  },
  {
   "cell_type": "code",
   "execution_count": 21,
   "metadata": {},
   "outputs": [
    {
     "output_type": "stream",
     "name": "stdout",
     "text": "[0 1 2 3 4 5 6 7 8 9]\nX has dimensions: (10,)\nX is an object of type: <class 'numpy.ndarray'>\nThe elements in X are of type: int64\n"
    }
   ],
   "source": [
    "# Create an ndarray with evenly spaced values in a given interval\n",
    "# Only giving the upper bound\n",
    "X = np.arange(10)\n",
    "\n",
    "print(X)\n",
    "\n",
    "# We print information about X\n",
    "print('X has dimensions:', X.shape)\n",
    "print('X is an object of type:', type(X))\n",
    "print('The elements in X are of type:', X.dtype)"
   ]
  },
  {
   "cell_type": "code",
   "execution_count": 22,
   "metadata": {},
   "outputs": [
    {
     "output_type": "stream",
     "name": "stdout",
     "text": "[ 4  5  6  7  8  9 10 11 12 13 14]\nX has dimensions: (11,)\nX is an object of type: <class 'numpy.ndarray'>\nThe elements in X are of type: int64\n"
    }
   ],
   "source": [
    "# Specify lower and upper bound \n",
    "X = np.arange(4,15)\n",
    "\n",
    "print(X)\n",
    "\n",
    "# We print information about X\n",
    "print('X has dimensions:', X.shape)\n",
    "print('X is an object of type:', type(X))\n",
    "print('The elements in X are of type:', X.dtype)"
   ]
  },
  {
   "cell_type": "code",
   "execution_count": 24,
   "metadata": {},
   "outputs": [
    {
     "output_type": "stream",
     "name": "stdout",
     "text": "[ 4  7 10 13]\nX has dimensions: (4,)\nX is an object of type: <class 'numpy.ndarray'>\nThe elements in X are of type: int64\n"
    }
   ],
   "source": [
    "# Specify lower and upper bound with a step interval\n",
    "\n",
    "X = np.arange(4,14,3)\n",
    "\n",
    "print(X)\n",
    "\n",
    "# We print information about X\n",
    "print('X has dimensions:', X.shape)\n",
    "print('X is an object of type:', type(X))\n",
    "print('The elements in X are of type:', X.dtype)"
   ]
  },
  {
   "cell_type": "code",
   "execution_count": 25,
   "metadata": {},
   "outputs": [
    {
     "output_type": "stream",
     "name": "stdout",
     "text": "[ 0.   2.4  4.8  7.2  9.6 12.  14.4 16.8 19.2 21.6 24. ]\nX has dimensions: (11,)\nX is an object of type: <class 'numpy.ndarray'>\nThe elements in X are of type: float64\n"
    }
   ],
   "source": [
    "# Create an ndarray using linspace by specifying the number of elements we want within a given interval\n",
    "\n",
    "X = np.linspace(0,24,11)\n",
    "\n",
    "print(X)\n",
    "\n",
    "# We print information about X\n",
    "print('X has dimensions:', X.shape)\n",
    "print('X is an object of type:', type(X))\n",
    "print('The elements in X are of type:', X.dtype)"
   ]
  },
  {
   "cell_type": "code",
   "execution_count": 26,
   "metadata": {},
   "outputs": [
    {
     "output_type": "stream",
     "name": "stdout",
     "text": "[ 0.   0.7  1.4  2.1  2.8  3.5  4.2  4.9  5.6  6.3  7.   7.7  8.4  9.1\n  9.8 10.5 11.2 11.9 12.6 13.3]\nX has dimensions: (20,)\nX is an object of type: <class 'numpy.ndarray'>\nThe elements in X are of type: float64\n"
    }
   ],
   "source": [
    "# We can also exclude the upper bound from the resulting array\n",
    "X = np.linspace(0,14,20,endpoint=False)\n",
    "\n",
    "print(X)\n",
    "\n",
    "# We print information about X\n",
    "print('X has dimensions:', X.shape)\n",
    "print('X is an object of type:', type(X))\n",
    "print('The elements in X are of type:', X.dtype)"
   ]
  },
  {
   "cell_type": "code",
   "execution_count": 27,
   "metadata": {},
   "outputs": [
    {
     "output_type": "stream",
     "name": "stdout",
     "text": "[[0 1 2 3 4]\n [5 6 7 8 9]]\nY has dimensions: (2, 5)\nY is an object of type: <class 'numpy.ndarray'>\nThe elements in Y are of type: int64\n"
    }
   ],
   "source": [
    "# Reshape an array \n",
    "Y = np.arange(10).reshape(2,5)\n",
    "\n",
    "print(Y)\n",
    "\n",
    "# We print information about Y\n",
    "print('Y has dimensions:', Y.shape)\n",
    "print('Y is an object of type:', type(Y))\n",
    "print('The elements in Y are of type:', Y.dtype)"
   ]
  },
  {
   "cell_type": "code",
   "execution_count": 30,
   "metadata": {},
   "outputs": [
    {
     "output_type": "stream",
     "name": "stdout",
     "text": "[[0.16663144 0.81623465 0.341508  ]\n [0.92931043 0.31651487 0.69840942]\n [0.00611321 0.88742996 0.20983959]]\nX has dimensions: (3, 3)\nX is an object of type: <class 'numpy.ndarray'>\nThe elements in X are of type: float64\n"
    }
   ],
   "source": [
    "# Create a random nd array in the half open interval [0,1]\n",
    "X = np.random.random([3,3])\n",
    "\n",
    "print(X)\n",
    "\n",
    "# We print information about X\n",
    "print('X has dimensions:', X.shape)\n",
    "print('X is an object of type:', type(X))\n",
    "print('The elements in X are of type:', X.dtype)"
   ]
  },
  {
   "cell_type": "code",
   "execution_count": 32,
   "metadata": {},
   "outputs": [
    {
     "output_type": "stream",
     "name": "stdout",
     "text": "[[6 7 6 5 5]\n [7 8 9 8 5]\n [7 6 9 6 7]\n [7 8 5 4 9]]\nX has dimensions: (4, 5)\nX is an object of type: <class 'numpy.ndarray'>\nThe elements in X are of type: int64\n"
    }
   ],
   "source": [
    "# Create ndarray with random integers within a given interval\n",
    "X = np.random.randint(4,10,size=(4,5))\n",
    "\n",
    "print(X)\n",
    "\n",
    "# We print information about X\n",
    "print('X has dimensions:', X.shape)\n",
    "print('X is an object of type:', type(X))\n",
    "print('The elements in X are of type:', X.dtype)"
   ]
  },
  {
   "cell_type": "code",
   "execution_count": 47,
   "metadata": {},
   "outputs": [
    {
     "output_type": "stream",
     "name": "stdout",
     "text": "[[ 0.09236806  0.15054772 -0.08327184 ... -0.00390776 -0.01606809\n   0.27733616]\n [-0.0444175  -0.06792798 -0.03710932 ... -0.01873848  0.08902207\n  -0.12780978]\n [ 0.00403169  0.06307978 -0.04746714 ...  0.03938307  0.00993423\n  -0.22557919]\n ...\n [ 0.01341823  0.05126129 -0.08719961 ... -0.02531608  0.01400613\n   0.11794854]\n [ 0.02602127 -0.05098368 -0.11435914 ... -0.17015621  0.00063405\n   0.01058028]\n [ 0.06459818 -0.099485    0.03943468 ...  0.07329376 -0.10174832\n  -0.11125035]]\nX has dimensions: (1000, 1000)\nX is an object of type: <class 'numpy.ndarray'>\nThe elements in X are of type: float64\n"
    }
   ],
   "source": [
    "# Create an ndarray from a normal distribution\n",
    "X = np.random.normal(0,0.1, size=(1000,1000))\n",
    "\n",
    "print(X)\n",
    "\n",
    "# We print information about X\n",
    "print('X has dimensions:', X.shape)\n",
    "print('X is an object of type:', type(X))\n",
    "print('The elements in X are of type:', X.dtype)"
   ]
  },
  {
   "cell_type": "code",
   "execution_count": 48,
   "metadata": {},
   "outputs": [
    {
     "output_type": "stream",
     "name": "stdout",
     "text": "The mean of the array is 1.7615701727218613e-05\nThe maximum value of elements in X is 0.5092424933573477\nThe minimum value of elements in X is -0.45894452322364876\nX has 499620 negative numbers\nX has 500380 positive numbers\n"
    }
   ],
   "source": [
    "# Printing statistical properties\n",
    "print('The mean of the array is', np.mean(X))\n",
    "print('The maximum value of elements in X is',X.max())\n",
    "print('The minimum value of elements in X is', X.min())\n",
    "print('X has', (X<0).sum(), 'negative numbers')\n",
    "print('X has', (X>0).sum(), 'positive numbers')"
   ]
  }
 ],
 "metadata": {
  "language_info": {
   "codemirror_mode": {
    "name": "ipython",
    "version": 3
   },
   "file_extension": ".py",
   "mimetype": "text/x-python",
   "name": "python",
   "nbconvert_exporter": "python",
   "pygments_lexer": "ipython3",
   "version": "3.8.2-final"
  },
  "orig_nbformat": 2,
  "kernelspec": {
   "name": "python3",
   "display_name": "Python 3"
  }
 },
 "nbformat": 4,
 "nbformat_minor": 2
}